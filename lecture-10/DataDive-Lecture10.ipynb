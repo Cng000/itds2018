{
 "cells": [
  {
   "cell_type": "markdown",
   "metadata": {},
   "source": [
    "# Data Dive Week 10: Fitting and Evaluating Classification Models\n",
    "\n",
    "Today we revisit our Kiva data to review model performance and tradeoffs between different classification methods. We'll use logistic regression, decision trees, random forests, and gradient boosting machines to predict whether loan requests posted on [Kiva.org](kiva.org) recevie funding. We'll be using `scikit-learn` for all of the models in today's exercise. \n",
    "\n",
    "\n",
    "***\n",
    "\n",
    "\n"
   ]
  },
  {
   "cell_type": "markdown",
   "metadata": {},
   "source": [
    "![alt text](https://designtoimprovelife.dk/wp-content/uploads/2009/08/KIVA.jpg)\n",
    "\n",
    "Kiva is an international nonprofit, founded in 2005 and based in San Francisco, with a mission to connect people through lending to alleviate poverty. Kiva seeks to celebrate and support people looking to create a better future for themselves, their families and their communities.\n",
    "\n",
    "*By lending as little as $25 on Kiva, anyone can help a borrower start or grow a business, go to school, access clean energy or realize their potential. For some, it’s a matter of survival, for others it’s the fuel for a life-long ambition.*\n",
    "\n",
    "## Today's Modeling Objective\n",
    "Our focus today will be determining whether microfinance projects on the site [Kiva.org](kiva.org) receive funding or not using a host of features made available by Kiva, along with some features we'll design ourselves. \n",
    "\n",
    "Today's data is a subsample of projects in Kenya, one of Kiva's most active countries for lending. We'll be working with 18,000 observations, 12,000 of which were funded. \n",
    "\n",
    "Documentation on the data is available on [Kiva's website](http://build.kiva.org/docs/data/basic_types)."
   ]
  },
  {
   "cell_type": "code",
   "execution_count": 1,
   "metadata": {},
   "outputs": [],
   "source": [
    "%matplotlib inline\n",
    "\n",
    "import pandas as pd\n",
    "import numpy as np\n",
    "import warnings\n",
    "import matplotlib.pyplot as plt\n",
    "from sklearn.linear_model import LogisticRegression\n",
    "from sklearn.tree import DecisionTreeClassifier\n",
    "from sklearn.ensemble import RandomForestClassifier, GradientBoostingClassifier\n",
    "from sklearn.metrics import accuracy_score, recall_score, precision_score, confusion_matrix\n",
    "from sklearn.metrics import roc_curve, roc_auc_score\n",
    "from sklearn.model_selection import KFold, train_test_split\n",
    "\n",
    "warnings.filterwarnings(\"ignore\")\n",
    "random_state = 20181112"
   ]
  },
  {
   "cell_type": "code",
   "execution_count": 2,
   "metadata": {},
   "outputs": [
    {
     "name": "stdout",
     "output_type": "stream",
     "text": [
      "(18000, 25)\n",
      "['LOAN_ID', 'DESCRIPTION', 'FUNDED_AMOUNT', 'LOAN_AMOUNT', 'STATUS', 'ACTIVITY_NAME', 'SECTOR_NAME', 'LOAN_USE', 'TOWN_NAME', 'CURRENCY', 'PARTNER_ID', 'POSTED_TIME', 'PLANNED_EXPIRATION_TIME', 'DISBURSE_TIME', 'RAISED_TIME', 'LENDER_TERM', 'NUM_LENDERS_TOTAL', 'NUM_JOURNAL_ENTRIES', 'NUM_BULK_ENTRIES', 'TAGS', 'BORROWER_NAMES', 'BORROWER_GENDERS', 'BORROWER_PICTURED', 'REPAYMENT_INTERVAL', 'DISTRIBUTION_MODEL']\n"
     ]
    },
    {
     "data": {
      "text/html": [
       "<div>\n",
       "<style scoped>\n",
       "    .dataframe tbody tr th:only-of-type {\n",
       "        vertical-align: middle;\n",
       "    }\n",
       "\n",
       "    .dataframe tbody tr th {\n",
       "        vertical-align: top;\n",
       "    }\n",
       "\n",
       "    .dataframe thead th {\n",
       "        text-align: right;\n",
       "    }\n",
       "</style>\n",
       "<table border=\"1\" class=\"dataframe\">\n",
       "  <thead>\n",
       "    <tr style=\"text-align: right;\">\n",
       "      <th></th>\n",
       "      <th>LOAN_ID</th>\n",
       "      <th>DESCRIPTION</th>\n",
       "      <th>FUNDED_AMOUNT</th>\n",
       "      <th>LOAN_AMOUNT</th>\n",
       "      <th>STATUS</th>\n",
       "      <th>ACTIVITY_NAME</th>\n",
       "      <th>SECTOR_NAME</th>\n",
       "      <th>LOAN_USE</th>\n",
       "      <th>TOWN_NAME</th>\n",
       "      <th>CURRENCY</th>\n",
       "      <th>...</th>\n",
       "      <th>LENDER_TERM</th>\n",
       "      <th>NUM_LENDERS_TOTAL</th>\n",
       "      <th>NUM_JOURNAL_ENTRIES</th>\n",
       "      <th>NUM_BULK_ENTRIES</th>\n",
       "      <th>TAGS</th>\n",
       "      <th>BORROWER_NAMES</th>\n",
       "      <th>BORROWER_GENDERS</th>\n",
       "      <th>BORROWER_PICTURED</th>\n",
       "      <th>REPAYMENT_INTERVAL</th>\n",
       "      <th>DISTRIBUTION_MODEL</th>\n",
       "    </tr>\n",
       "  </thead>\n",
       "  <tbody>\n",
       "    <tr>\n",
       "      <th>0</th>\n",
       "      <td>854452</td>\n",
       "      <td>Janepher, pictured above, is a group leader an...</td>\n",
       "      <td>725.0</td>\n",
       "      <td>1000.0</td>\n",
       "      <td>expired</td>\n",
       "      <td>Agriculture</td>\n",
       "      <td>Agriculture</td>\n",
       "      <td>to buy cost-efficient maize seeds and fertiliz...</td>\n",
       "      <td>Webuye</td>\n",
       "      <td>KES</td>\n",
       "      <td>...</td>\n",
       "      <td>11.0</td>\n",
       "      <td>15</td>\n",
       "      <td>1</td>\n",
       "      <td>1</td>\n",
       "      <td>#Eco-friendly, #Sustainable Ag, #Technology, #...</td>\n",
       "      <td>Teresa, Janepher, Joseph, Jane, Phylis J, Mild...</td>\n",
       "      <td>female, female, male, female, female, female, ...</td>\n",
       "      <td>true, true, true, true, true, true, true, true...</td>\n",
       "      <td>bullet</td>\n",
       "      <td>field_partner</td>\n",
       "    </tr>\n",
       "    <tr>\n",
       "      <th>1</th>\n",
       "      <td>868233</td>\n",
       "      <td>John is a married man. He has two children. He...</td>\n",
       "      <td>825.0</td>\n",
       "      <td>1100.0</td>\n",
       "      <td>expired</td>\n",
       "      <td>Grocery Store</td>\n",
       "      <td>Food</td>\n",
       "      <td>buy more stock of maize to produce maize flou...</td>\n",
       "      <td>Nakuru</td>\n",
       "      <td>KES</td>\n",
       "      <td>...</td>\n",
       "      <td>14.0</td>\n",
       "      <td>14</td>\n",
       "      <td>1</td>\n",
       "      <td>1</td>\n",
       "      <td>#Parent, #Repeat Borrower, #Vegan</td>\n",
       "      <td>JOHN</td>\n",
       "      <td>male</td>\n",
       "      <td>true</td>\n",
       "      <td>monthly</td>\n",
       "      <td>field_partner</td>\n",
       "    </tr>\n",
       "    <tr>\n",
       "      <th>2</th>\n",
       "      <td>1429009</td>\n",
       "      <td>Margaret is a single mother and lives with her...</td>\n",
       "      <td>275.0</td>\n",
       "      <td>500.0</td>\n",
       "      <td>expired</td>\n",
       "      <td>Farming</td>\n",
       "      <td>Agriculture</td>\n",
       "      <td>to buy hybrid seeds and fertilizers to use on ...</td>\n",
       "      <td>Siongiroi</td>\n",
       "      <td>KES</td>\n",
       "      <td>...</td>\n",
       "      <td>20.0</td>\n",
       "      <td>11</td>\n",
       "      <td>1</td>\n",
       "      <td>1</td>\n",
       "      <td>#Eco-friendly, #Woman Owned Biz</td>\n",
       "      <td>Margaret</td>\n",
       "      <td>female</td>\n",
       "      <td>true</td>\n",
       "      <td>monthly</td>\n",
       "      <td>field_partner</td>\n",
       "    </tr>\n",
       "    <tr>\n",
       "      <th>3</th>\n",
       "      <td>1077128</td>\n",
       "      <td>Agriphine is a proud mother of angelic-looking...</td>\n",
       "      <td>225.0</td>\n",
       "      <td>1000.0</td>\n",
       "      <td>expired</td>\n",
       "      <td>Farming</td>\n",
       "      <td>Agriculture</td>\n",
       "      <td>to buy farm supplies and seeds in order to exp...</td>\n",
       "      <td>Chuka</td>\n",
       "      <td>KES</td>\n",
       "      <td>...</td>\n",
       "      <td>20.0</td>\n",
       "      <td>7</td>\n",
       "      <td>1</td>\n",
       "      <td>1</td>\n",
       "      <td>#Parent, #Woman Owned Biz</td>\n",
       "      <td>Agriphine</td>\n",
       "      <td>female</td>\n",
       "      <td>true</td>\n",
       "      <td>monthly</td>\n",
       "      <td>field_partner</td>\n",
       "    </tr>\n",
       "    <tr>\n",
       "      <th>4</th>\n",
       "      <td>825980</td>\n",
       "      <td>Bernard is 32 years. He is married to Caroline...</td>\n",
       "      <td>275.0</td>\n",
       "      <td>500.0</td>\n",
       "      <td>expired</td>\n",
       "      <td>Butcher Shop</td>\n",
       "      <td>Food</td>\n",
       "      <td>to add stocks of pork meat.</td>\n",
       "      <td>Kisumu</td>\n",
       "      <td>KES</td>\n",
       "      <td>...</td>\n",
       "      <td>14.0</td>\n",
       "      <td>8</td>\n",
       "      <td>1</td>\n",
       "      <td>1</td>\n",
       "      <td>user_favorite, #Parent, #Repeat Borrower</td>\n",
       "      <td>BERNARD</td>\n",
       "      <td>male</td>\n",
       "      <td>true</td>\n",
       "      <td>monthly</td>\n",
       "      <td>field_partner</td>\n",
       "    </tr>\n",
       "  </tbody>\n",
       "</table>\n",
       "<p>5 rows × 25 columns</p>\n",
       "</div>"
      ],
      "text/plain": [
       "   LOAN_ID                                        DESCRIPTION  FUNDED_AMOUNT  \\\n",
       "0   854452  Janepher, pictured above, is a group leader an...          725.0   \n",
       "1   868233  John is a married man. He has two children. He...          825.0   \n",
       "2  1429009  Margaret is a single mother and lives with her...          275.0   \n",
       "3  1077128  Agriphine is a proud mother of angelic-looking...          225.0   \n",
       "4   825980  Bernard is 32 years. He is married to Caroline...          275.0   \n",
       "\n",
       "   LOAN_AMOUNT   STATUS  ACTIVITY_NAME  SECTOR_NAME  \\\n",
       "0       1000.0  expired    Agriculture  Agriculture   \n",
       "1       1100.0  expired  Grocery Store         Food   \n",
       "2        500.0  expired        Farming  Agriculture   \n",
       "3       1000.0  expired        Farming  Agriculture   \n",
       "4        500.0  expired   Butcher Shop         Food   \n",
       "\n",
       "                                            LOAN_USE  TOWN_NAME CURRENCY  \\\n",
       "0  to buy cost-efficient maize seeds and fertiliz...     Webuye      KES   \n",
       "1   buy more stock of maize to produce maize flou...     Nakuru      KES   \n",
       "2  to buy hybrid seeds and fertilizers to use on ...  Siongiroi      KES   \n",
       "3  to buy farm supplies and seeds in order to exp...      Chuka      KES   \n",
       "4                        to add stocks of pork meat.     Kisumu      KES   \n",
       "\n",
       "         ...          LENDER_TERM NUM_LENDERS_TOTAL NUM_JOURNAL_ENTRIES  \\\n",
       "0        ...                 11.0                15                   1   \n",
       "1        ...                 14.0                14                   1   \n",
       "2        ...                 20.0                11                   1   \n",
       "3        ...                 20.0                 7                   1   \n",
       "4        ...                 14.0                 8                   1   \n",
       "\n",
       "  NUM_BULK_ENTRIES                                               TAGS  \\\n",
       "0                1  #Eco-friendly, #Sustainable Ag, #Technology, #...   \n",
       "1                1                  #Parent, #Repeat Borrower, #Vegan   \n",
       "2                1                    #Eco-friendly, #Woman Owned Biz   \n",
       "3                1                          #Parent, #Woman Owned Biz   \n",
       "4                1           user_favorite, #Parent, #Repeat Borrower   \n",
       "\n",
       "                                      BORROWER_NAMES  \\\n",
       "0  Teresa, Janepher, Joseph, Jane, Phylis J, Mild...   \n",
       "1                                               JOHN   \n",
       "2                                          Margaret    \n",
       "3                                          Agriphine   \n",
       "4                                            BERNARD   \n",
       "\n",
       "                                    BORROWER_GENDERS  \\\n",
       "0  female, female, male, female, female, female, ...   \n",
       "1                                               male   \n",
       "2                                             female   \n",
       "3                                             female   \n",
       "4                                               male   \n",
       "\n",
       "                                   BORROWER_PICTURED  REPAYMENT_INTERVAL  \\\n",
       "0  true, true, true, true, true, true, true, true...              bullet   \n",
       "1                                               true             monthly   \n",
       "2                                               true             monthly   \n",
       "3                                               true             monthly   \n",
       "4                                               true             monthly   \n",
       "\n",
       "  DISTRIBUTION_MODEL  \n",
       "0      field_partner  \n",
       "1      field_partner  \n",
       "2      field_partner  \n",
       "3      field_partner  \n",
       "4      field_partner  \n",
       "\n",
       "[5 rows x 25 columns]"
      ]
     },
     "execution_count": 2,
     "metadata": {},
     "output_type": "execute_result"
    }
   ],
   "source": [
    "df = pd.read_csv('https://grantmlong.com/data/kiva_kenya_sample.csv')\n",
    "print(df.shape)\n",
    "print(list(df))\n",
    "df.head()"
   ]
  },
  {
   "cell_type": "markdown",
   "metadata": {},
   "source": [
    "# Tidying Up Our Data\n",
    "\n",
    "There are a couple of different things we'll want to off the bat: \n",
    " 1. Create a target variable\n",
    " 2. Generate a more usable version of the `POSTED_TIME` column.\n",
    " 3. Generate a variable with the amount of planned time before expiration for each project. \n",
    " 4. Generate boolean variables for each of the following categorical columns:\n",
    "   * `SECTOR_NAME`\n",
    "   * `ACTIVITY_NAME`\n",
    "   * `REPAYMENT_INTERVAL`\n",
    " 5. Create boolean variables for a handful of other free text and categorical columns, including:\n",
    "   * `BORROWER_PICTURED`\n",
    "   * `BORROWER_GENDERS`\n",
    "   * `DISTRIBUTION_MODEL`\n",
    " \n",
    " "
   ]
  },
  {
   "cell_type": "code",
   "execution_count": 3,
   "metadata": {},
   "outputs": [
    {
     "data": {
      "text/plain": [
       "funded     12000\n",
       "expired     6000\n",
       "Name: STATUS, dtype: int64"
      ]
     },
     "execution_count": 3,
     "metadata": {},
     "output_type": "execute_result"
    }
   ],
   "source": [
    "df.STATUS.value_counts()"
   ]
  },
  {
   "cell_type": "code",
   "execution_count": 4,
   "metadata": {},
   "outputs": [],
   "source": [
    "df['success'] = (df.STATUS=='funded')*1\n"
   ]
  },
  {
   "cell_type": "code",
   "execution_count": 5,
   "metadata": {},
   "outputs": [
    {
     "data": {
      "text/plain": [
       "0    2015-03-12 12:14:55.000 +0000\n",
       "1    2015-04-10 10:47:35.000 +0000\n",
       "2    2017-12-06 10:12:14.000 +0000\n",
       "3    2016-05-27 13:05:40.000 +0000\n",
       "4    2015-01-09 09:10:57.000 +0000\n",
       "Name: POSTED_TIME, dtype: object"
      ]
     },
     "execution_count": 5,
     "metadata": {},
     "output_type": "execute_result"
    }
   ],
   "source": [
    "df.POSTED_TIME.head()"
   ]
  },
  {
   "cell_type": "code",
   "execution_count": 6,
   "metadata": {},
   "outputs": [],
   "source": [
    "df['posted_year'] = pd.to_datetime(df.POSTED_TIME).dt.year\n",
    "df['posted_duration'] = (pd.to_datetime(df.PLANNED_EXPIRATION_TIME)\n",
    "                             - pd.to_datetime(df.POSTED_TIME)\n",
    "                            ).dt.days\n",
    "                            "
   ]
  },
  {
   "cell_type": "code",
   "execution_count": 7,
   "metadata": {},
   "outputs": [],
   "source": [
    "sector_names = ['sector_' + name.lower() for name in df.SECTOR_NAME.unique()]\n",
    "for name in df.SECTOR_NAME.unique():\n",
    "    df['sector_' + name.lower()] = (df.SECTOR_NAME==name)*1\n",
    "\n",
    "activity_names = ['activity_' + name.lower() for name in df.ACTIVITY_NAME.unique()]\n",
    "for name in df.ACTIVITY_NAME.unique():\n",
    "    df['activity_' + name.lower()] = (df.ACTIVITY_NAME==name)*1\n",
    "\n",
    "repayment_types = ['repayment_' + interval.lower() for interval in df.REPAYMENT_INTERVAL.unique()]\n",
    "for interval in df.REPAYMENT_INTERVAL.unique():\n",
    "    df['repayment_' + interval.lower()] = (df.REPAYMENT_INTERVAL==interval)*1\n"
   ]
  },
  {
   "cell_type": "code",
   "execution_count": 8,
   "metadata": {},
   "outputs": [],
   "source": [
    "other_names = ['has_borrower_pic', 'has_female_borrower', 'direct_distribution', 'currency_usd']\n",
    "\n",
    "df['has_borrower_pic'] = df.BORROWER_PICTURED.str.contains('true')*1\n",
    "df['has_borrower_pic'] = df['has_borrower_pic'].fillna(0)\n",
    "\n",
    "df['has_female_borrower'] = df.BORROWER_GENDERS.str.contains('female')*1\n",
    "df['has_female_borrower'] = df['has_female_borrower'].fillna(0)\n",
    "\n",
    "df['direct_distribution'] = (df.DISTRIBUTION_MODEL=='direct')*1\n",
    "\n",
    "df['currency_usd'] = (df.CURRENCY=='USD')*1\n"
   ]
  },
  {
   "cell_type": "code",
   "execution_count": null,
   "metadata": {},
   "outputs": [],
   "source": []
  },
  {
   "cell_type": "code",
   "execution_count": null,
   "metadata": {},
   "outputs": [],
   "source": []
  },
  {
   "cell_type": "markdown",
   "metadata": {},
   "source": [
    "# Data Handling"
   ]
  },
  {
   "cell_type": "code",
   "execution_count": 9,
   "metadata": {},
   "outputs": [
    {
     "name": "stdout",
     "output_type": "stream",
     "text": [
      "14297 0.621668881583549\n",
      "1589 0.6280679672750157\n"
     ]
    }
   ],
   "source": [
    "features = (['posted_year', 'posted_duration', 'LOAN_AMOUNT', 'LENDER_TERM', 'NUM_JOURNAL_ENTRIES'] \n",
    "            + repayment_types + sector_names + activity_names \n",
    "            + other_names\n",
    "           )\n",
    "\n",
    "model_df = df[(features + ['success'])].dropna().reset_index()\n",
    "\n",
    "train_df, holdout_df, y_train, y_holdout = train_test_split(\n",
    "    model_df[features], \n",
    "    model_df['success'], test_size=0.1,\n",
    "    random_state=random_state)\n",
    "\n",
    "\n",
    "\n",
    "train_df['success'] = y_train\n",
    "holdout_df['success'] = y_holdout\n",
    "\n",
    "train_df.reset_index(inplace=True)\n",
    "holdout_df.reset_index(inplace=True)\n",
    "\n",
    "print(train_df.shape[0], train_df.success.mean())\n",
    "print(holdout_df.shape[0], holdout_df.success.mean())"
   ]
  },
  {
   "cell_type": "code",
   "execution_count": null,
   "metadata": {},
   "outputs": [],
   "source": []
  },
  {
   "cell_type": "markdown",
   "metadata": {},
   "source": [
    "# Model Training\n",
    "\n",
    "Let's take a quick look at all of our classification model options using cross validation. For the tree based models, we'll use the hyperparameter `max_depth=6` as a naive attempt at voiding overfitting before we dig deeper."
   ]
  },
  {
   "cell_type": "markdown",
   "metadata": {},
   "source": [
    "##### Let's fit and score the model, this time using cross validation:"
   ]
  },
  {
   "cell_type": "code",
   "execution_count": 10,
   "metadata": {},
   "outputs": [],
   "source": [
    "k_fold = KFold(n_splits=5, random_state=random_state)"
   ]
  },
  {
   "cell_type": "code",
   "execution_count": 11,
   "metadata": {},
   "outputs": [],
   "source": [
    "def get_cv_results(classifier):\n",
    "    \n",
    "    results = []\n",
    "    for train, test in k_fold.split(train_df):\n",
    "        classifier.fit(train_df.loc[train, features], train_df.loc[train, 'success'])\n",
    "        y_predicted = classifier.predict(train_df.loc[test, features])\n",
    "        accuracy = accuracy_score(train_df.loc[test, 'success'], y_predicted)\n",
    "        results.append(accuracy)\n",
    "    \n",
    "    return np.mean(results), np.std(results)\n"
   ]
  },
  {
   "cell_type": "markdown",
   "metadata": {},
   "source": [
    "#### First, let's look at the cv performance of Logistic Regression"
   ]
  },
  {
   "cell_type": "code",
   "execution_count": 12,
   "metadata": {},
   "outputs": [
    {
     "data": {
      "text/plain": [
       "(0.7644260915719467, 0.010979146454348028)"
      ]
     },
     "execution_count": 12,
     "metadata": {},
     "output_type": "execute_result"
    }
   ],
   "source": [
    "logreg = LogisticRegression(\n",
    "    random_state=random_state, \n",
    "    solver='lbfgs'\n",
    ")\n",
    "\n",
    "get_cv_results(logreg)"
   ]
  },
  {
   "cell_type": "markdown",
   "metadata": {},
   "source": [
    "#### Next, let's take a naive attempt to beat Logistic Regression using a Tree"
   ]
  },
  {
   "cell_type": "code",
   "execution_count": 13,
   "metadata": {},
   "outputs": [
    {
     "data": {
      "text/plain": [
       "(0.8217106573035219, 0.0024906435410496208)"
      ]
     },
     "execution_count": 13,
     "metadata": {},
     "output_type": "execute_result"
    }
   ],
   "source": [
    "dtree = DecisionTreeClassifier(\n",
    "    random_state=random_state, \n",
    "    max_depth=6\n",
    ")\n",
    "\n",
    "get_cv_results(dtree)"
   ]
  },
  {
   "cell_type": "markdown",
   "metadata": {},
   "source": [
    "#### Looks like a non-linear method gives us a big boost. Let's try a Random Forest."
   ]
  },
  {
   "cell_type": "code",
   "execution_count": 14,
   "metadata": {},
   "outputs": [
    {
     "data": {
      "text/plain": [
       "(0.8154853890425768, 0.0032988376919777453)"
      ]
     },
     "execution_count": 14,
     "metadata": {},
     "output_type": "execute_result"
    }
   ],
   "source": [
    "rforest = RandomForestClassifier(\n",
    "    random_state=random_state, \n",
    "    max_depth=6,\n",
    "    n_estimators=100\n",
    ")\n",
    "\n",
    "get_cv_results(rforest)"
   ]
  },
  {
   "cell_type": "markdown",
   "metadata": {},
   "source": [
    "#### Finally, let's take a naive approach to Gradient Boosting."
   ]
  },
  {
   "cell_type": "code",
   "execution_count": 15,
   "metadata": {},
   "outputs": [
    {
     "data": {
      "text/plain": [
       "(0.8613691764688618, 0.003947793716135799)"
      ]
     },
     "execution_count": 15,
     "metadata": {},
     "output_type": "execute_result"
    }
   ],
   "source": [
    "gbm = GradientBoostingClassifier(\n",
    "    random_state=random_state, \n",
    "    max_depth=6,\n",
    "    n_estimators=100\n",
    ")\n",
    "\n",
    "get_cv_results(gbm)"
   ]
  },
  {
   "cell_type": "code",
   "execution_count": null,
   "metadata": {},
   "outputs": [],
   "source": []
  },
  {
   "cell_type": "markdown",
   "metadata": {},
   "source": [
    "### Learning Curves, Revisited\n",
    "\n",
    "Now that we're working with a more complex data set, we should be able to build more robust learning curves than we had experience with when we were using the  "
   ]
  },
  {
   "cell_type": "code",
   "execution_count": 16,
   "metadata": {},
   "outputs": [
    {
     "name": "stdout",
     "output_type": "stream",
     "text": [
      "1 0.7057419215971157 0.006197712587708798\n",
      "3 0.7747080621372332 0.009441268420865052\n",
      "5 0.8133173367381132 0.005966408795355334\n",
      "7 0.8233893214166038 0.005961895906191497\n",
      "9 0.8313628169661749 0.005254125604413617\n",
      "11 0.8410155147405934 0.0032442400799333236\n",
      "13 0.8415746373248997 0.005544680690834588\n",
      "15 0.8409455602110377 0.0029511699042006935\n",
      "17 0.8387077245943984 0.003306029540725475\n",
      "19 0.8364695710026243 0.003056774265880661\n",
      "21 0.8362592671406942 0.0021894358037878414\n",
      "23 0.8347902953988999 0.0033983751530999467\n",
      "25 0.8311532468930161 0.0030919273854788116\n",
      "27 0.8333216905514911 0.003947312027337628\n",
      "29 0.8307337398523128 0.0022859692370877506\n",
      "31 0.8303139637557265 0.0018769514022197087\n",
      "33 0.828634932748259 0.003799783904552117\n",
      "35 0.8292645724335126 0.0024081721767429177\n",
      "37 0.8284953905835334 0.0010897286961143453\n",
      "39 0.828075981381333 0.0010243108829064594\n",
      "41 0.8278657753579054 0.0014648761806115424\n",
      "43 0.8281455200972514 0.0017175627267847198\n",
      "45 0.8277957474494725 0.001936419524087309\n",
      "47 0.8267466251831415 0.002524934415322217\n",
      "49 0.8261870867851979 0.002659735726027208\n"
     ]
    }
   ],
   "source": [
    "hp_values = range(1,50, 2)\n",
    "all_mu = []\n",
    "all_sigma = []\n",
    "\n",
    "for m in hp_values:\n",
    "\n",
    "    dtree=DecisionTreeClassifier(\n",
    "        criterion='entropy', \n",
    "        random_state=random_state, \n",
    "        max_depth=m,\n",
    "    )\n",
    "\n",
    "    mu, sigma = get_cv_results(dtree)\n",
    "    all_mu.append(mu)\n",
    "    all_sigma.append(sigma)\n",
    "    \n",
    "    print(m, mu, sigma)"
   ]
  },
  {
   "cell_type": "code",
   "execution_count": 17,
   "metadata": {},
   "outputs": [
    {
     "data": {
      "text/plain": [
       "Text(0.5, 0, 'Max Depth')"
      ]
     },
     "execution_count": 17,
     "metadata": {},
     "output_type": "execute_result"
    },
    {
     "data": {
      "image/png": "[encoded data removed]",
      "text/plain": [
       "<Figure size 1008x360 with 1 Axes>"
      ]
     },
     "metadata": {
      "needs_background": "light"
     },
     "output_type": "display_data"
    }
   ],
   "source": [
    "plt.figure(figsize=(14, 5))\n",
    "plt.plot(hp_values, all_mu)\n",
    "plt.ylabel('Cross Validation Accuracy')\n",
    "plt.xlabel('Max Depth')"
   ]
  },
  {
   "cell_type": "code",
   "execution_count": 18,
   "metadata": {},
   "outputs": [
    {
     "data": {
      "text/plain": [
       "Text(0.5, 0, 'Max Depth')"
      ]
     },
     "execution_count": 18,
     "metadata": {},
     "output_type": "execute_result"
    },
    {
     "data": {
      "image/png": "[encoded data removed]",
      "text/plain": [
       "<Figure size 1008x360 with 1 Axes>"
      ]
     },
     "metadata": {
      "needs_background": "light"
     },
     "output_type": "display_data"
    }
   ],
   "source": [
    "plt.figure(figsize=(14, 5))\n",
    "plt.plot(hp_values, all_sigma)\n",
    "plt.ylabel('Cross Validation Std Dev.')\n",
    "plt.xlabel('Max Depth')"
   ]
  },
  {
   "cell_type": "code",
   "execution_count": null,
   "metadata": {},
   "outputs": [],
   "source": []
  },
  {
   "cell_type": "markdown",
   "metadata": {},
   "source": [
    "# Evaluating Model Performance\n",
    "\n",
    "We can use ROC curves to look at how our models perform across a variety of threshholds against our holdout data. \n"
   ]
  },
  {
   "cell_type": "code",
   "execution_count": 19,
   "metadata": {},
   "outputs": [],
   "source": [
    "def plot_roc(classifier, label, color):\n",
    "\n",
    "    classifier.fit(train_df[features], train_df['success'])\n",
    "    y_prob = classifier.predict_proba(holdout_df[features])\n",
    "    \n",
    "    fpr, tpr, thresh = roc_curve(holdout_df['success'], y_prob[:,1])\n",
    "    plt.plot(fpr, tpr,\n",
    "             label=label,\n",
    "             color=color, linewidth=3)\n",
    "\n",
    "    auc = roc_auc_score(holdout_df['success'], y_prob[:,1])\n",
    "    \n",
    "    print('AUC: %0.3f (%s)' % (auc, label))\n",
    " "
   ]
  },
  {
   "cell_type": "code",
   "execution_count": 20,
   "metadata": {},
   "outputs": [
    {
     "name": "stdout",
     "output_type": "stream",
     "text": [
      "AUC: 0.871 (Logistic Regression)\n",
      "AUC: 0.921 (Decision Tree)\n",
      "AUC: 0.923 (Random Forest)\n",
      "AUC: 0.953 (GBM)\n"
     ]
    },
    {
     "data": {
      "text/plain": [
       "<matplotlib.legend.Legend at 0x1a1f40ea90>"
      ]
     },
     "execution_count": 20,
     "metadata": {},
     "output_type": "execute_result"
    },
    {
     "data": {
      "image/png": "[encoded data removed]",
      "text/plain": [
       "<Figure size 1008x432 with 1 Axes>"
      ]
     },
     "metadata": {
      "needs_background": "light"
     },
     "output_type": "display_data"
    }
   ],
   "source": [
    "f1 = plt.figure(figsize=(14,6))\n",
    "\n",
    "logreg = LogisticRegression(\n",
    "    random_state=random_state, \n",
    "    solver='lbfgs'\n",
    ")\n",
    "plot_roc(logreg, 'Logistic Regression', 'green')\n",
    "\n",
    "dtree = DecisionTreeClassifier(\n",
    "    random_state=random_state, \n",
    "    max_depth=6\n",
    ")\n",
    "plot_roc(dtree, 'Decision Tree', 'red')\n",
    "\n",
    "rforest = RandomForestClassifier(\n",
    "    random_state=random_state, \n",
    "    max_depth=6,\n",
    "    n_estimators=100\n",
    ")\n",
    "plot_roc(rforest, 'Random Forest', 'blue')\n",
    "\n",
    "gbm = GradientBoostingClassifier(\n",
    "    random_state=random_state, \n",
    "    max_depth=6,\n",
    "    n_estimators=100\n",
    ")\n",
    "plot_roc(gbm, 'GBM', 'lightblue')\n",
    "\n",
    "plt.legend(loc='lower right')"
   ]
  },
  {
   "cell_type": "code",
   "execution_count": null,
   "metadata": {},
   "outputs": [],
   "source": []
  },
  {
   "cell_type": "code",
   "execution_count": null,
   "metadata": {},
   "outputs": [],
   "source": []
  }
 ],
 "metadata": {
  "kernelspec": {
   "display_name": "Python [conda env:ccny]",
   "language": "python",
   "name": "conda-env-ccny-py"
  },
  "language_info": {
   "codemirror_mode": {
    "name": "ipython",
    "version": 3
   },
   "file_extension": ".py",
   "mimetype": "text/x-python",
   "name": "python",
   "nbconvert_exporter": "python",
   "pygments_lexer": "ipython3",
   "version": "3.6.7"
  }
 },
 "nbformat": 4,
 "nbformat_minor": 2
}
