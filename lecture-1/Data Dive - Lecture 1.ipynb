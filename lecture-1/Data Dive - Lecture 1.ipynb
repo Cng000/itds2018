{
 "cells": [
  {
   "cell_type": "markdown",
   "metadata": {},
   "source": [
    "# Lecture 1: What Data Science Can Tell Us About the World\n",
    "\n",
    "##### For our first exercise, we'll be using Jupyter, Python 3.6, and the pandas package to analyze a data set. \n",
    "\n",
    "\n",
    "## Preamble.\n",
    "\n",
    "This exercise will be an extreme crash course in Python. If you're not familiar with Python, don't worry, it's easy! Future datacamp exercises will focus on the fundamentals of the language. Today's exercise will just involve tweaking some pre-written code. \n",
    "\n",
    "A couple of notes:\n",
    "* We're using a jupyter notebook, a web-browser based interactive programming environment that allows you to execute \"cells\" or blocks of code in chunks. Any variables you assign will persist across different cells. \n",
    "* To execute a block of code, hit \"shift\" + \"enter\". Alternatively, you can use the \"Run cell\" button in the toolbar above. \n",
    "\n",
    "\n",
    "\n",
    "\n"
   ]
  },
  {
   "cell_type": "markdown",
   "metadata": {},
   "source": [
    "The first thing we do when creating a new Jupyter notebook is import all of the packages we'll need for our analysis. For today's example, we just need the pandas package, which we'll alias as pd. "
   ]
  },
  {
   "cell_type": "code",
   "execution_count": 1,
   "metadata": {
    "collapsed": false
   },
   "outputs": [],
   "source": [
    "import pandas as pd"
   ]
  },
  {
   "cell_type": "markdown",
   "metadata": {},
   "source": [
    "Just for practice, we can also assign a variable, print a statement, and modify the variable.  "
   ]
  },
  {
   "cell_type": "code",
   "execution_count": 2,
   "metadata": {
    "collapsed": false
   },
   "outputs": [
    {
     "name": "stdout",
     "output_type": "stream",
     "text": [
      "Using Python like a rockstar\n"
     ]
    }
   ],
   "source": [
    "a = 3\n",
    "print('Using Python like a rockstar')"
   ]
  },
  {
   "cell_type": "code",
   "execution_count": 3,
   "metadata": {
    "collapsed": false
   },
   "outputs": [
    {
     "data": {
      "text/plain": [
       "5"
      ]
     },
     "execution_count": 3,
     "metadata": {},
     "output_type": "execute_result"
    }
   ],
   "source": [
    "a = a + 2\n",
    "a"
   ]
  },
  {
   "cell_type": "markdown",
   "metadata": {},
   "source": [
    "As a reminder, variables in Python are dynamically typed, so we can assign a string to our *a* variable, which was previously a *int*. "
   ]
  },
  {
   "cell_type": "code",
   "execution_count": 4,
   "metadata": {
    "collapsed": false
   },
   "outputs": [
    {
     "name": "stdout",
     "output_type": "stream",
     "text": [
      "This is crazy!\n"
     ]
    }
   ],
   "source": [
    "a = 'crazy!'\n",
    "print('This is ' + a)"
   ]
  },
  {
   "cell_type": "markdown",
   "metadata": {},
   "source": [
    "## Our Data.\n",
    "\n",
    "This course is focused on using data to make sense of the world, so we'll do lots of hands on work with data. Each week, we'll explore a data set together, and see what we can learn about the world. \n",
    "\n",
    "### H1-B Visa Data. \n",
    "\n",
    "H1-B visas are among the most commonly used visas to hire foreign workers in technology, finance, and many other sectors. The government publicly discloses roles, titles, and pay for 1,000s of workers in the U.S. This publicly available gives us a sense of the going rate for data analysts, scientist, and engineers around the U.S. \n",
    "\n",
    "H1B data is made publicly available by the U.S. Department of Labor, and can be found [here](https://www.foreignlaborcert.doleta.gov/performancedata.cfm). Record layouts, including column definitions, are avilable [here](https://www.foreignlaborcert.doleta.gov/pdf/PerformanceData/2018/H-1B_FY18_Record_Layout_Q3.pdf) The CSV downloaded in this file in an extract of cases submitted in Q2 2018 from the most recent update to the data available in August 2018. \n",
    "\n",
    "\n",
    "#### Load data. \n",
    "Let's use the pandas package to load our data file into a dataframe. Note that we're reading this from the web, but that's not problem, and we can handle the whole operation easily in one line. Note that pandas may warn us that the columns in the file contain mixed data types, but that's not something we need to worry about right now. "
   ]
  },
  {
   "cell_type": "code",
   "execution_count": 5,
   "metadata": {
    "collapsed": false
   },
   "outputs": [
    {
     "name": "stderr",
     "output_type": "stream",
     "text": [
      "/Users/grant/anaconda/envs/work/lib/python3.6/site-packages/IPython/core/interactiveshell.py:2785: DtypeWarning: Columns (16) have mixed types. Specify dtype option on import or set low_memory=False.\n",
      "  interactivity=interactivity, compiler=compiler, result=result)\n"
     ]
    }
   ],
   "source": [
    "df = pd.read_csv('s3_H1B_data.csv')"
   ]
  },
  {
   "cell_type": "markdown",
   "metadata": {},
   "source": [
    "Now that we've got the data loaded, we can look quickly at both the first few rows and the column titles to get a sense of what we're dealing with. "
   ]
  },
  {
   "cell_type": "code",
   "execution_count": 6,
   "metadata": {
    "collapsed": false
   },
   "outputs": [
    {
     "data": {
      "text/html": [
       "<div>\n",
       "<style scoped>\n",
       "    .dataframe tbody tr th:only-of-type {\n",
       "        vertical-align: middle;\n",
       "    }\n",
       "\n",
       "    .dataframe tbody tr th {\n",
       "        vertical-align: top;\n",
       "    }\n",
       "\n",
       "    .dataframe thead th {\n",
       "        text-align: right;\n",
       "    }\n",
       "</style>\n",
       "<table border=\"1\" class=\"dataframe\">\n",
       "  <thead>\n",
       "    <tr style=\"text-align: right;\">\n",
       "      <th></th>\n",
       "      <th>CASE_NUMBER</th>\n",
       "      <th>CASE_STATUS</th>\n",
       "      <th>CASE_SUBMITTED</th>\n",
       "      <th>DECISION_DATE</th>\n",
       "      <th>VISA_CLASS</th>\n",
       "      <th>EMPLOYMENT_START_DATE</th>\n",
       "      <th>EMPLOYMENT_END_DATE</th>\n",
       "      <th>EMPLOYER_NAME</th>\n",
       "      <th>EMPLOYER_BUSINESS_DBA</th>\n",
       "      <th>EMPLOYER_ADDRESS</th>\n",
       "      <th>...</th>\n",
       "      <th>H1B_DEPENDENT</th>\n",
       "      <th>WILLFUL_VIOLATOR</th>\n",
       "      <th>SUPPORT_H1B</th>\n",
       "      <th>LABOR_CON_AGREE</th>\n",
       "      <th>PUBLIC_DISCLOSURE_LOCATION</th>\n",
       "      <th>WORKSITE_CITY</th>\n",
       "      <th>WORKSITE_COUNTY</th>\n",
       "      <th>WORKSITE_STATE</th>\n",
       "      <th>WORKSITE_POSTAL_CODE</th>\n",
       "      <th>ORIGINAL_CERT_DATE</th>\n",
       "    </tr>\n",
       "  </thead>\n",
       "  <tbody>\n",
       "    <tr>\n",
       "      <th>0</th>\n",
       "      <td>I-200-18079-420782</td>\n",
       "      <td>WITHDRAWN</td>\n",
       "      <td>2018-04-01</td>\n",
       "      <td>2018-04-01</td>\n",
       "      <td>H-1B</td>\n",
       "      <td>2018-10-01</td>\n",
       "      <td>2021-09-30</td>\n",
       "      <td>INTERSECT TECHNOLOGY INSTITUTE INC</td>\n",
       "      <td>ITI CABLING, INC</td>\n",
       "      <td>1200 S. ESCONDIDO BLVD</td>\n",
       "      <td>...</td>\n",
       "      <td>N</td>\n",
       "      <td>N</td>\n",
       "      <td>NaN</td>\n",
       "      <td>Y</td>\n",
       "      <td>NaN</td>\n",
       "      <td>SAN DIEGO</td>\n",
       "      <td>SAN DIEGO</td>\n",
       "      <td>CA</td>\n",
       "      <td>92129</td>\n",
       "      <td>NaN</td>\n",
       "    </tr>\n",
       "    <tr>\n",
       "      <th>1</th>\n",
       "      <td>I-200-18092-166315</td>\n",
       "      <td>WITHDRAWN</td>\n",
       "      <td>2018-04-02</td>\n",
       "      <td>2018-04-02</td>\n",
       "      <td>H-1B</td>\n",
       "      <td>2018-05-21</td>\n",
       "      <td>2021-05-20</td>\n",
       "      <td>OATEY COMPANY</td>\n",
       "      <td>NaN</td>\n",
       "      <td>20600 EMERALD PKWY</td>\n",
       "      <td>...</td>\n",
       "      <td>N</td>\n",
       "      <td>N</td>\n",
       "      <td>NaN</td>\n",
       "      <td>NaN</td>\n",
       "      <td>NaN</td>\n",
       "      <td>CLEVELAND</td>\n",
       "      <td>CUYAHOGA</td>\n",
       "      <td>OH</td>\n",
       "      <td>44135</td>\n",
       "      <td>NaN</td>\n",
       "    </tr>\n",
       "    <tr>\n",
       "      <th>2</th>\n",
       "      <td>I-200-18092-463281</td>\n",
       "      <td>WITHDRAWN</td>\n",
       "      <td>2018-04-02</td>\n",
       "      <td>2018-04-02</td>\n",
       "      <td>H-1B</td>\n",
       "      <td>2018-04-02</td>\n",
       "      <td>2021-04-01</td>\n",
       "      <td>WIPRO LIMITED</td>\n",
       "      <td>NaN</td>\n",
       "      <td>2 TOWER CENTER BLVD</td>\n",
       "      <td>...</td>\n",
       "      <td>Y</td>\n",
       "      <td>N</td>\n",
       "      <td>Y</td>\n",
       "      <td>NaN</td>\n",
       "      <td>NaN</td>\n",
       "      <td>CHARLOTTE</td>\n",
       "      <td>MECKLENBURG</td>\n",
       "      <td>NC</td>\n",
       "      <td>28208</td>\n",
       "      <td>NaN</td>\n",
       "    </tr>\n",
       "    <tr>\n",
       "      <th>3</th>\n",
       "      <td>I-200-18044-596134</td>\n",
       "      <td>WITHDRAWN</td>\n",
       "      <td>2018-04-02</td>\n",
       "      <td>2018-04-02</td>\n",
       "      <td>H-1B</td>\n",
       "      <td>2018-10-01</td>\n",
       "      <td>2019-07-29</td>\n",
       "      <td>SCHLUMBERGER TECHNOLOGY CORPORATION</td>\n",
       "      <td>NaN</td>\n",
       "      <td>3600 BRIARPARK DRIVE</td>\n",
       "      <td>...</td>\n",
       "      <td>N</td>\n",
       "      <td>N</td>\n",
       "      <td>NaN</td>\n",
       "      <td>NaN</td>\n",
       "      <td>NaN</td>\n",
       "      <td>HOUSTON</td>\n",
       "      <td>HARRIS</td>\n",
       "      <td>TX</td>\n",
       "      <td>77042</td>\n",
       "      <td>NaN</td>\n",
       "    </tr>\n",
       "    <tr>\n",
       "      <th>4</th>\n",
       "      <td>I-200-18086-513920</td>\n",
       "      <td>WITHDRAWN</td>\n",
       "      <td>2018-04-02</td>\n",
       "      <td>2018-04-02</td>\n",
       "      <td>H-1B</td>\n",
       "      <td>2018-08-23</td>\n",
       "      <td>2021-08-22</td>\n",
       "      <td>APPLEXUS TECHNOLOGIES LLC</td>\n",
       "      <td>NaN</td>\n",
       "      <td>33507 9TH AVENUE SOUTH</td>\n",
       "      <td>...</td>\n",
       "      <td>Y</td>\n",
       "      <td>N</td>\n",
       "      <td>Y</td>\n",
       "      <td>Y</td>\n",
       "      <td>NaN</td>\n",
       "      <td>THE WOODLANDS</td>\n",
       "      <td>MONTGOMERY</td>\n",
       "      <td>TX</td>\n",
       "      <td>77380</td>\n",
       "      <td>NaN</td>\n",
       "    </tr>\n",
       "  </tbody>\n",
       "</table>\n",
       "<p>5 rows × 52 columns</p>\n",
       "</div>"
      ],
      "text/plain": [
       "          CASE_NUMBER CASE_STATUS CASE_SUBMITTED DECISION_DATE VISA_CLASS  \\\n",
       "0  I-200-18079-420782   WITHDRAWN     2018-04-01    2018-04-01       H-1B   \n",
       "1  I-200-18092-166315   WITHDRAWN     2018-04-02    2018-04-02       H-1B   \n",
       "2  I-200-18092-463281   WITHDRAWN     2018-04-02    2018-04-02       H-1B   \n",
       "3  I-200-18044-596134   WITHDRAWN     2018-04-02    2018-04-02       H-1B   \n",
       "4  I-200-18086-513920   WITHDRAWN     2018-04-02    2018-04-02       H-1B   \n",
       "\n",
       "  EMPLOYMENT_START_DATE EMPLOYMENT_END_DATE  \\\n",
       "0            2018-10-01          2021-09-30   \n",
       "1            2018-05-21          2021-05-20   \n",
       "2            2018-04-02          2021-04-01   \n",
       "3            2018-10-01          2019-07-29   \n",
       "4            2018-08-23          2021-08-22   \n",
       "\n",
       "                         EMPLOYER_NAME EMPLOYER_BUSINESS_DBA  \\\n",
       "0   INTERSECT TECHNOLOGY INSTITUTE INC      ITI CABLING, INC   \n",
       "1                        OATEY COMPANY                   NaN   \n",
       "2                        WIPRO LIMITED                   NaN   \n",
       "3  SCHLUMBERGER TECHNOLOGY CORPORATION                   NaN   \n",
       "4            APPLEXUS TECHNOLOGIES LLC                   NaN   \n",
       "\n",
       "         EMPLOYER_ADDRESS        ...         H1B_DEPENDENT WILLFUL_VIOLATOR  \\\n",
       "0  1200 S. ESCONDIDO BLVD        ...                     N                N   \n",
       "1      20600 EMERALD PKWY        ...                     N                N   \n",
       "2     2 TOWER CENTER BLVD        ...                     Y                N   \n",
       "3    3600 BRIARPARK DRIVE        ...                     N                N   \n",
       "4  33507 9TH AVENUE SOUTH        ...                     Y                N   \n",
       "\n",
       "  SUPPORT_H1B LABOR_CON_AGREE PUBLIC_DISCLOSURE_LOCATION  WORKSITE_CITY  \\\n",
       "0         NaN               Y                        NaN      SAN DIEGO   \n",
       "1         NaN             NaN                        NaN      CLEVELAND   \n",
       "2           Y             NaN                        NaN      CHARLOTTE   \n",
       "3         NaN             NaN                        NaN        HOUSTON   \n",
       "4           Y               Y                        NaN  THE WOODLANDS   \n",
       "\n",
       "  WORKSITE_COUNTY WORKSITE_STATE WORKSITE_POSTAL_CODE ORIGINAL_CERT_DATE  \n",
       "0       SAN DIEGO             CA                92129                NaN  \n",
       "1        CUYAHOGA             OH                44135                NaN  \n",
       "2     MECKLENBURG             NC                28208                NaN  \n",
       "3          HARRIS             TX                77042                NaN  \n",
       "4      MONTGOMERY             TX                77380                NaN  \n",
       "\n",
       "[5 rows x 52 columns]"
      ]
     },
     "execution_count": 6,
     "metadata": {},
     "output_type": "execute_result"
    }
   ],
   "source": [
    "df.head(5)"
   ]
  },
  {
   "cell_type": "code",
   "execution_count": 7,
   "metadata": {
    "collapsed": false
   },
   "outputs": [
    {
     "data": {
      "text/plain": [
       "Index(['CASE_NUMBER', 'CASE_STATUS', 'CASE_SUBMITTED', 'DECISION_DATE',\n",
       "       'VISA_CLASS', 'EMPLOYMENT_START_DATE', 'EMPLOYMENT_END_DATE',\n",
       "       'EMPLOYER_NAME', 'EMPLOYER_BUSINESS_DBA', 'EMPLOYER_ADDRESS',\n",
       "       'EMPLOYER_CITY', 'EMPLOYER_STATE', 'EMPLOYER_POSTAL_CODE',\n",
       "       'EMPLOYER_COUNTRY', 'EMPLOYER_PROVINCE', 'EMPLOYER_PHONE',\n",
       "       'EMPLOYER_PHONE_EXT', 'AGENT_REPRESENTING_EMPLOYER',\n",
       "       'AGENT_ATTORNEY_NAME', 'AGENT_ATTORNEY_CITY', 'AGENT_ATTORNEY_STATE',\n",
       "       'JOB_TITLE', 'SOC_CODE', 'SOC_NAME', 'NAICS_CODE', 'TOTAL_WORKERS',\n",
       "       'NEW_EMPLOYMENT', 'CONTINUED_EMPLOYMENT', 'CHANGE_PREVIOUS_EMPLOYMENT',\n",
       "       'NEW_CONCURRENT_EMP', 'CHANGE_EMPLOYER', 'AMENDED_PETITION',\n",
       "       'FULL_TIME_POSITION', 'PREVAILING_WAGE', 'PW_UNIT_OF_PAY',\n",
       "       'PW_WAGE_LEVEL', 'PW_SOURCE', 'PW_SOURCE_YEAR', 'PW_SOURCE_OTHER',\n",
       "       'WAGE_RATE_OF_PAY_FROM', 'WAGE_RATE_OF_PAY_TO', 'WAGE_UNIT_OF_PAY',\n",
       "       'H1B_DEPENDENT', 'WILLFUL_VIOLATOR', 'SUPPORT_H1B', 'LABOR_CON_AGREE',\n",
       "       'PUBLIC_DISCLOSURE_LOCATION', 'WORKSITE_CITY', 'WORKSITE_COUNTY',\n",
       "       'WORKSITE_STATE', 'WORKSITE_POSTAL_CODE', 'ORIGINAL_CERT_DATE'],\n",
       "      dtype='object')"
      ]
     },
     "execution_count": 7,
     "metadata": {},
     "output_type": "execute_result"
    }
   ],
   "source": [
    "df.columns"
   ]
  },
  {
   "cell_type": "markdown",
   "metadata": {},
   "source": [
    "## Digging A Little Deeper\n",
    "\n",
    "Pandas has plenty of built-in functionality that makes it easy to find summary stats about the data we're working with. "
   ]
  },
  {
   "cell_type": "code",
   "execution_count": 8,
   "metadata": {
    "collapsed": false
   },
   "outputs": [
    {
     "name": "stdout",
     "output_type": "stream",
     "text": [
      "(111387, 52)\n",
      "111387\n"
     ]
    }
   ],
   "source": [
    "print(df.shape)\n",
    "print(len(df))"
   ]
  },
  {
   "cell_type": "code",
   "execution_count": 9,
   "metadata": {
    "collapsed": false
   },
   "outputs": [
    {
     "data": {
      "text/plain": [
       "count     111387\n",
       "mean       96400\n",
       "std        51084\n",
       "min            0\n",
       "25%        72800\n",
       "50%        90437\n",
       "75%       115000\n",
       "max      1300000\n",
       "Name: WAGE_RATE_OF_PAY_FROM, dtype: int64"
      ]
     },
     "execution_count": 9,
     "metadata": {},
     "output_type": "execute_result"
    }
   ],
   "source": [
    "df.WAGE_RATE_OF_PAY_FROM.describe().astype(int)"
   ]
  },
  {
   "cell_type": "code",
   "execution_count": 10,
   "metadata": {
    "collapsed": false
   },
   "outputs": [
    {
     "data": {
      "text/plain": [
       "CERTIFIED              105246\n",
       "WITHDRAWN                2898\n",
       "CERTIFIED-WITHDRAWN      1645\n",
       "DENIED                   1598\n",
       "Name: CASE_STATUS, dtype: int64"
      ]
     },
     "execution_count": 10,
     "metadata": {},
     "output_type": "execute_result"
    }
   ],
   "source": [
    "df['CASE_STATUS'].value_counts()"
   ]
  },
  {
   "cell_type": "code",
   "execution_count": 11,
   "metadata": {
    "collapsed": false
   },
   "outputs": [
    {
     "data": {
      "text/plain": [
       "NEW YORK         6812\n",
       "SAN FRANCISCO    3011\n",
       "CHICAGO          2279\n",
       "HOUSTON          2206\n",
       "SAN JOSE         1968\n",
       "ATLANTA          1935\n",
       "SUNNYVALE        1912\n",
       "SEATTLE          1617\n",
       "AUSTIN           1413\n",
       "BOSTON           1371\n",
       "Name: WORKSITE_CITY, dtype: int64"
      ]
     },
     "execution_count": 11,
     "metadata": {},
     "output_type": "execute_result"
    }
   ],
   "source": [
    "df.WORKSITE_CITY.value_counts().head(10)"
   ]
  },
  {
   "cell_type": "code",
   "execution_count": 12,
   "metadata": {
    "collapsed": false
   },
   "outputs": [
    {
     "data": {
      "text/plain": [
       "SOFTWARE DEVELOPER           5077\n",
       "SOFTWARE ENGINEER            4593\n",
       "SENIOR SOFTWARE ENGINEER     1841\n",
       "ASSISTANT PROFESSOR          1725\n",
       "PROGRAMMER ANALYST           1476\n",
       "DEVELOPER                    1121\n",
       "SENIOR CONSULTANT            1049\n",
       "SYSTEMS ANALYST               832\n",
       "CONSULTANT                    811\n",
       "SENIOR SOFTWARE DEVELOPER     788\n",
       "Name: JOB_TITLE, dtype: int64"
      ]
     },
     "execution_count": 12,
     "metadata": {},
     "output_type": "execute_result"
    }
   ],
   "source": [
    "df.JOB_TITLE.value_counts().head(10)"
   ]
  },
  {
   "cell_type": "markdown",
   "metadata": {},
   "source": [
    "#### *Exercise:* Which ten employers hired the most workers?"
   ]
  },
  {
   "cell_type": "code",
   "execution_count": 13,
   "metadata": {
    "collapsed": false
   },
   "outputs": [],
   "source": [
    "# todo: top 10 employers by visa count"
   ]
  },
  {
   "cell_type": "markdown",
   "metadata": {},
   "source": [
    "## Slicing and Dicing\n",
    "\n",
    "#### To get information relevant to our class, we'll need find a little more detail on particular employers, jobs, and locations. \n",
    "\n",
    "Pandas has a deep arrays of tools that allow for a wide range of in-memory filtering and data extraction, including SQL-like functionality. As is the case with many pandas functions, there is often more than one way to do the same thing.  "
   ]
  },
  {
   "cell_type": "code",
   "execution_count": 14,
   "metadata": {
    "collapsed": false
   },
   "outputs": [
    {
     "data": {
      "text/plain": [
       "ASSOCIATE                    279\n",
       "VICE PRESIDENT               181\n",
       "SOFTWARE ENGINEER            176\n",
       "SOFTWARE DEVELOPER           139\n",
       "SENIOR SOFTWARE ENGINEER     120\n",
       "ARCHITECT                     68\n",
       "HOUSE STAFF, RESIDENT         64\n",
       "ADVISORY SENIOR ASSOCIATE     62\n",
       "MANAGER                       61\n",
       "CONSULTANT                    59\n",
       "Name: JOB_TITLE, dtype: int64"
      ]
     },
     "execution_count": 14,
     "metadata": {},
     "output_type": "execute_result"
    }
   ],
   "source": [
    "df.loc[(df.WORKSITE_CITY=='NEW YORK'), 'JOB_TITLE'].value_counts().head(10)"
   ]
  },
  {
   "cell_type": "code",
   "execution_count": 15,
   "metadata": {
    "collapsed": false
   },
   "outputs": [
    {
     "data": {
      "text/plain": [
       "FACEBOOK, INC.                            42\n",
       "MICROSOFT CORPORATION                      8\n",
       "APPLE INC.                                 6\n",
       "AMAZON WEB SERVICES, INC.                  5\n",
       "FORD MOTOR COMPANY                         5\n",
       "AIRBNB, INC.                               5\n",
       "MEMORIAL SLOAN-KETTERING CANCER CENTER     4\n",
       "CIRCLE UP NETWORK, INC.                    2\n",
       "BRAINS WORK GROUP, INC.                    2\n",
       "DATAROBOT INC.                             2\n",
       "Name: EMPLOYER_NAME, dtype: int64"
      ]
     },
     "execution_count": 15,
     "metadata": {},
     "output_type": "execute_result"
    }
   ],
   "source": [
    "df.EMPLOYER_NAME.loc[(df.JOB_TITLE=='DATA SCIENTIST')].value_counts().head(10)"
   ]
  },
  {
   "cell_type": "markdown",
   "metadata": {},
   "source": [
    "#### *Exercise:* Which ten employers hired the most workers with salaries over $100,000?\n"
   ]
  },
  {
   "cell_type": "code",
   "execution_count": 16,
   "metadata": {
    "collapsed": true
   },
   "outputs": [],
   "source": [
    "# todo: top 10 employers by visa count"
   ]
  },
  {
   "cell_type": "markdown",
   "metadata": {},
   "source": [
    "## Advanced Functionality\n",
    "\n",
    "Pandas also has functionality to handle more complex datatypes, including:\n",
    "1. Regular expression functionality to handle text \n",
    "2. Time functionality to handle dates. "
   ]
  },
  {
   "cell_type": "markdown",
   "metadata": {},
   "source": [
    "##### Let's first do some basic transformations of some of our columns to make them easier to work with:"
   ]
  },
  {
   "cell_type": "code",
   "execution_count": 19,
   "metadata": {
    "collapsed": false
   },
   "outputs": [
    {
     "name": "stdout",
     "output_type": "stream",
     "text": [
      "['2018-04-01' '2018-04-02' '2018-04-02' '2018-04-02' '2018-04-02']\n",
      "['2018-04-01T00:00:00.000000000' '2018-04-02T00:00:00.000000000'\n",
      " '2018-04-02T00:00:00.000000000' '2018-04-02T00:00:00.000000000'\n",
      " '2018-04-02T00:00:00.000000000']\n"
     ]
    }
   ],
   "source": [
    "# Some of our date columns are a little problematic:\n",
    "print(df.CASE_SUBMITTED.values[:5])\n",
    "\n",
    "# These looks a lot like strings, but we can transform them to dates, or \"datetime\" objects in pandas\n",
    "print(pd.to_datetime(df.CASE_SUBMITTED).values[:5])\n",
    "\n",
    "# To make these easier to work with, we can create a new column for the transformed date\n",
    "df['submission_date'] = pd.to_datetime(df.CASE_SUBMITTED)"
   ]
  },
  {
   "cell_type": "markdown",
   "metadata": {},
   "source": [
    "##### Now let's look at how we can use the datetime functionality to do some advanced filtering:"
   ]
  },
  {
   "cell_type": "code",
   "execution_count": 22,
   "metadata": {
    "collapsed": false
   },
   "outputs": [
    {
     "data": {
      "text/plain": [
       "SOFTWARE DEVELOPER                     1278\n",
       "SOFTWARE ENGINEER                      1218\n",
       "SENIOR SOFTWARE ENGINEER                551\n",
       "ASSISTANT PROFESSOR                     470\n",
       "DEVELOPER                               331\n",
       "PROGRAMMER ANALYST                      329\n",
       "SENIOR CONSULTANT                       262\n",
       "TECHNOLOGY LEAD - US - PRACTITIONER     254\n",
       "SYSTEMS ANALYST                         226\n",
       "SENIOR SOFTWARE DEVELOPER               207\n",
       "Name: JOB_TITLE, dtype: int64"
      ]
     },
     "execution_count": 22,
     "metadata": {},
     "output_type": "execute_result"
    }
   ],
   "source": [
    "# Let's filter our set down to all of the records submitted in June 2018\n",
    "time_mask = (df.submission_date.dt.year==2018) & (df.submission_date.dt.month==6)\n",
    "\n",
    "df.loc[time_mask, 'JOB_TITLE'].value_counts().head(10)"
   ]
  },
  {
   "cell_type": "code",
   "execution_count": null,
   "metadata": {
    "collapsed": true
   },
   "outputs": [],
   "source": []
  },
  {
   "cell_type": "code",
   "execution_count": null,
   "metadata": {
    "collapsed": true
   },
   "outputs": [],
   "source": []
  },
  {
   "cell_type": "code",
   "execution_count": null,
   "metadata": {
    "collapsed": true
   },
   "outputs": [],
   "source": []
  },
  {
   "cell_type": "code",
   "execution_count": null,
   "metadata": {
    "collapsed": false
   },
   "outputs": [],
   "source": [
    "(df.loc[(df.WORKSITE_CITY=='NEW YORK'), \n",
    "        ['JOB_TITLE', 'WAGE_RATE_OF_PAY_FROM']]\n",
    " .groupby('JOB_TITLE')\n",
    " .agg(['count', 'median', 'mean', 'max'])\n",
    " .sort_values(by=('WAGE_RATE_OF_PAY_FROM', 'count'), ascending=False)\n",
    ")"
   ]
  },
  {
   "cell_type": "code",
   "execution_count": null,
   "metadata": {
    "collapsed": false
   },
   "outputs": [],
   "source": [
    "(df.loc[((df.WORKSITE_CITY=='NEW YORK') & (df.JOB_TITLE.str.contains('DATA'))), \n",
    "        ['JOB_TITLE', 'WAGE_RATE_OF_PAY_FROM']]\n",
    " .groupby('JOB_TITLE')\n",
    " .agg(['count', 'median', 'mean', 'max'])\n",
    " .sort_values(by=('WAGE_RATE_OF_PAY_FROM', 'count'), ascending=False)\n",
    " .head(10)\n",
    ")"
   ]
  },
  {
   "cell_type": "code",
   "execution_count": null,
   "metadata": {
    "collapsed": false
   },
   "outputs": [],
   "source": [
    "(df.loc[((df.WORKSITE_CITY=='NEW YORK') & (df.JOB_TITLE.str.contains('DATA SCI'))), \n",
    "        ['EMPLOYER_NAME', 'WAGE_RATE_OF_PAY_FROM']]\n",
    " .groupby('EMPLOYER_NAME')\n",
    " .agg(['count', 'median', 'mean', 'max'])\n",
    " .sort_values(by=('WAGE_RATE_OF_PAY_FROM', 'count'), ascending=False)\n",
    " .head(10)\n",
    "\n",
    ")"
   ]
  },
  {
   "cell_type": "code",
   "execution_count": null,
   "metadata": {
    "collapsed": false
   },
   "outputs": [],
   "source": [
    "(df.loc[(df.EMPLOYER_NAME.str.contains('GOOGLE') & df.EMPLOYER_NAME.notnull()), \n",
    "        ['JOB_TITLE', 'WAGE_RATE_OF_PAY_FROM']]\n",
    " .groupby('JOB_TITLE')\n",
    " .agg(['count', 'median', 'mean', 'max'])\n",
    " .sort_values(by=('WAGE_RATE_OF_PAY_FROM', 'count'), ascending=False)\n",
    " .head(10)\n",
    ")"
   ]
  },
  {
   "cell_type": "code",
   "execution_count": null,
   "metadata": {
    "collapsed": false
   },
   "outputs": [],
   "source": [
    "(df.loc[((df.WORKSITE_CITY=='NEW YORK') & (df.JOB_TITLE.str.contains('DATA SCI'))), \n",
    "        ['EMPLOYER_NAME', 'WAGE_RATE_OF_PAY_FROM']]\n",
    " .groupby('EMPLOYER_NAME')\n",
    " .agg(['count', 'median', 'mean', 'max'])\n",
    " .sort_values(by=('WAGE_RATE_OF_PAY_FROM', 'median'), ascending=False)\n",
    " .head(10)\n",
    ")"
   ]
  },
  {
   "cell_type": "code",
   "execution_count": null,
   "metadata": {
    "collapsed": false
   },
   "outputs": [],
   "source": [
    "df.loc[(df.EMPLOYER_NAME.str.contains('GOOGLE') & df.EMPLOYER_NAME.notnull()), \n",
    "        ['EMPLOYER_NAME', 'WAGE_RATE_OF_PAY_FROM']]\n",
    " "
   ]
  },
  {
   "cell_type": "code",
   "execution_count": null,
   "metadata": {
    "collapsed": false
   },
   "outputs": [],
   "source": []
  },
  {
   "cell_type": "code",
   "execution_count": null,
   "metadata": {
    "collapsed": true
   },
   "outputs": [],
   "source": []
  }
 ],
 "metadata": {
  "kernelspec": {
   "display_name": "Python [work]",
   "language": "python",
   "name": "Python [work]"
  },
  "language_info": {
   "codemirror_mode": {
    "name": "ipython",
    "version": 3
   },
   "file_extension": ".py",
   "mimetype": "text/x-python",
   "name": "python",
   "nbconvert_exporter": "python",
   "pygments_lexer": "ipython3",
   "version": "3.6.6"
  }
 },
 "nbformat": 4,
 "nbformat_minor": 0
}
