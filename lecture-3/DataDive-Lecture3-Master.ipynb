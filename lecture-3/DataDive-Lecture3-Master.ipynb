{
 "cells": [
  {
   "cell_type": "markdown",
   "metadata": {
    "deletable": true,
    "editable": true
   },
   "source": [
    "# Data Dive 3: Cleaning Data\n",
    "### Making Sense of NYC Restaurant Inspection Data\n",
    "\n",
    "[This dataset](https://data.cityofnewyork.us/Health/DOHMH-New-York-City-Restaurant-Inspection-Results/43nn-pn8j) provides restaurant inspections, violations, grades and adjudication information. It is freely available through the NYC Open Data portal, though for the purposes of this exercise we'll be using a static version I pulled in early September 2018 that is available at the url below. A Data Dictionary is available [here](https://data.cityofnewyork.us/api/views/43nn-pn8j/files/e3160d37-1b15-41ef-af6b-a830ed39cbc0?download=true&filename=Restaurant_Inspection_Open_Data_Dictionary_082214.xlsx). \n",
    "\n",
    "Throughout this exercise, we'll be drawing on skills highlighted in the [DataCamp course](https://www.datacamp.com/courses/cleaning-data-in-python), as well as miscellaneous other commands I've introduced in the first two classes. [Ten Minutes to Pandas](https://pandas.pydata.org/pandas-docs/stable/10min.html) is a great reference for these. \n",
    "\n",
    "\n",
    "`https://grantmlong.com/data/DOHMH_New_York_City_Restaurant_Inspection_Results_20180911.csv`.  \n",
    "\n"
   ]
  },
  {
   "cell_type": "code",
   "execution_count": 1,
   "metadata": {
    "collapsed": false,
    "deletable": true,
    "editable": true
   },
   "outputs": [],
   "source": [
    "import pandas as pd\n",
    "import requests\n",
    "\n",
    "%matplotlib inline"
   ]
  },
  {
   "cell_type": "markdown",
   "metadata": {
    "collapsed": true,
    "deletable": true,
    "editable": true
   },
   "source": [
    "## Part 1: Load and Inspect\n",
    "1. Load data from DataFrame\n",
    "2. Find the number of rows and columns in the data\n",
    "3. List the columns in the DataFrame\n",
    "4. Display the first twenty rows\n"
   ]
  },
  {
   "cell_type": "markdown",
   "metadata": {
    "deletable": true,
    "editable": true
   },
   "source": [
    "Load data from DataFrame"
   ]
  },
  {
   "cell_type": "code",
   "execution_count": 2,
   "metadata": {
    "collapsed": false,
    "deletable": true,
    "editable": true
   },
   "outputs": [],
   "source": [
    "df = pd.read_csv('https://grantmlong.com/data/DOHMH_New_York_City_Restaurant_Inspection_Results_20180911.csv')"
   ]
  },
  {
   "cell_type": "markdown",
   "metadata": {
    "deletable": true,
    "editable": true
   },
   "source": [
    "Find the number of rows and columns in the data"
   ]
  },
  {
   "cell_type": "code",
   "execution_count": 3,
   "metadata": {
    "collapsed": false,
    "deletable": true,
    "editable": true
   },
   "outputs": [
    {
     "name": "stdout",
     "output_type": "stream",
     "text": [
      "(376414, 18)\n"
     ]
    }
   ],
   "source": [
    "print(df.shape)"
   ]
  },
  {
   "cell_type": "markdown",
   "metadata": {
    "deletable": true,
    "editable": true
   },
   "source": [
    "List the columns in the DataFrame"
   ]
  },
  {
   "cell_type": "code",
   "execution_count": 4,
   "metadata": {
    "collapsed": false,
    "deletable": true,
    "editable": true
   },
   "outputs": [
    {
     "name": "stdout",
     "output_type": "stream",
     "text": [
      "['CAMIS', 'DBA', 'BORO', 'BUILDING', 'STREET', 'ZIPCODE', 'PHONE', 'CUISINE DESCRIPTION', 'INSPECTION DATE', 'ACTION', 'VIOLATION CODE', 'VIOLATION DESCRIPTION', 'CRITICAL FLAG', 'SCORE', 'GRADE', 'GRADE DATE', 'RECORD DATE', 'INSPECTION TYPE']\n"
     ]
    }
   ],
   "source": [
    "print(list(df))"
   ]
  },
  {
   "cell_type": "markdown",
   "metadata": {
    "deletable": true,
    "editable": true
   },
   "source": [
    "Display the first twenty rows"
   ]
  },
  {
   "cell_type": "code",
   "execution_count": 5,
   "metadata": {
    "collapsed": false,
    "deletable": true,
    "editable": true
   },
   "outputs": [
    {
     "data": {
      "text/html": [
       "<div>\n",
       "<style scoped>\n",
       "    .dataframe tbody tr th:only-of-type {\n",
       "        vertical-align: middle;\n",
       "    }\n",
       "\n",
       "    .dataframe tbody tr th {\n",
       "        vertical-align: top;\n",
       "    }\n",
       "\n",
       "    .dataframe thead th {\n",
       "        text-align: right;\n",
       "    }\n",
       "</style>\n",
       "<table border=\"1\" class=\"dataframe\">\n",
       "  <thead>\n",
       "    <tr style=\"text-align: right;\">\n",
       "      <th></th>\n",
       "      <th>CAMIS</th>\n",
       "      <th>DBA</th>\n",
       "      <th>BORO</th>\n",
       "      <th>BUILDING</th>\n",
       "      <th>STREET</th>\n",
       "      <th>ZIPCODE</th>\n",
       "      <th>PHONE</th>\n",
       "      <th>CUISINE DESCRIPTION</th>\n",
       "      <th>INSPECTION DATE</th>\n",
       "      <th>ACTION</th>\n",
       "      <th>VIOLATION CODE</th>\n",
       "      <th>VIOLATION DESCRIPTION</th>\n",
       "      <th>CRITICAL FLAG</th>\n",
       "      <th>SCORE</th>\n",
       "      <th>GRADE</th>\n",
       "      <th>GRADE DATE</th>\n",
       "      <th>RECORD DATE</th>\n",
       "      <th>INSPECTION TYPE</th>\n",
       "    </tr>\n",
       "  </thead>\n",
       "  <tbody>\n",
       "    <tr>\n",
       "      <th>0</th>\n",
       "      <td>50018348</td>\n",
       "      <td>EMPIRE III</td>\n",
       "      <td>MANHATTAN</td>\n",
       "      <td>1902</td>\n",
       "      <td>A C POWELL BLVD</td>\n",
       "      <td>10026.0</td>\n",
       "      <td>2122808880</td>\n",
       "      <td>Chinese</td>\n",
       "      <td>04/07/2016</td>\n",
       "      <td>Violations were cited in the following area(s).</td>\n",
       "      <td>04L</td>\n",
       "      <td>Evidence of mice or live mice present in facil...</td>\n",
       "      <td>Critical</td>\n",
       "      <td>24.0</td>\n",
       "      <td>NaN</td>\n",
       "      <td>NaN</td>\n",
       "      <td>09/13/2018</td>\n",
       "      <td>Cycle Inspection / Initial Inspection</td>\n",
       "    </tr>\n",
       "    <tr>\n",
       "      <th>1</th>\n",
       "      <td>41706796</td>\n",
       "      <td>FOREST HILLS DINER</td>\n",
       "      <td>QUEENS</td>\n",
       "      <td>6860</td>\n",
       "      <td>AUSTIN STREET</td>\n",
       "      <td>11375.0</td>\n",
       "      <td>7189977744</td>\n",
       "      <td>American</td>\n",
       "      <td>05/21/2015</td>\n",
       "      <td>Violations were cited in the following area(s).</td>\n",
       "      <td>06B</td>\n",
       "      <td>Tobacco use, eating, or drinking from open con...</td>\n",
       "      <td>Critical</td>\n",
       "      <td>27.0</td>\n",
       "      <td>NaN</td>\n",
       "      <td>NaN</td>\n",
       "      <td>09/13/2018</td>\n",
       "      <td>Cycle Inspection / Initial Inspection</td>\n",
       "    </tr>\n",
       "    <tr>\n",
       "      <th>2</th>\n",
       "      <td>41270009</td>\n",
       "      <td>FORTY CARROTS</td>\n",
       "      <td>MANHATTAN</td>\n",
       "      <td>1000</td>\n",
       "      <td>3 AVENUE</td>\n",
       "      <td>10022.0</td>\n",
       "      <td>2127053085</td>\n",
       "      <td>American</td>\n",
       "      <td>12/22/2016</td>\n",
       "      <td>Violations were cited in the following area(s).</td>\n",
       "      <td>10H</td>\n",
       "      <td>Proper sanitization not provided for utensil w...</td>\n",
       "      <td>Not Critical</td>\n",
       "      <td>11.0</td>\n",
       "      <td>A</td>\n",
       "      <td>12/22/2016</td>\n",
       "      <td>09/13/2018</td>\n",
       "      <td>Cycle Inspection / Initial Inspection</td>\n",
       "    </tr>\n",
       "    <tr>\n",
       "      <th>3</th>\n",
       "      <td>50047433</td>\n",
       "      <td>PUSH FITNESS CLUB</td>\n",
       "      <td>QUEENS</td>\n",
       "      <td>18810</td>\n",
       "      <td>UNION TPKE</td>\n",
       "      <td>11366.0</td>\n",
       "      <td>7184647874</td>\n",
       "      <td>American</td>\n",
       "      <td>04/13/2018</td>\n",
       "      <td>Violations were cited in the following area(s).</td>\n",
       "      <td>02G</td>\n",
       "      <td>Cold food item held above 41Âº F (smoked fish ...</td>\n",
       "      <td>Critical</td>\n",
       "      <td>28.0</td>\n",
       "      <td>NaN</td>\n",
       "      <td>NaN</td>\n",
       "      <td>09/13/2018</td>\n",
       "      <td>Cycle Inspection / Initial Inspection</td>\n",
       "    </tr>\n",
       "    <tr>\n",
       "      <th>4</th>\n",
       "      <td>41163474</td>\n",
       "      <td>MIRIAM</td>\n",
       "      <td>BROOKLYN</td>\n",
       "      <td>79</td>\n",
       "      <td>5 AVENUE</td>\n",
       "      <td>11217.0</td>\n",
       "      <td>7186222250</td>\n",
       "      <td>Mediterranean</td>\n",
       "      <td>02/15/2017</td>\n",
       "      <td>Violations were cited in the following area(s).</td>\n",
       "      <td>08A</td>\n",
       "      <td>Facility not vermin proof. Harborage or condit...</td>\n",
       "      <td>Not Critical</td>\n",
       "      <td>10.0</td>\n",
       "      <td>A</td>\n",
       "      <td>02/15/2017</td>\n",
       "      <td>09/13/2018</td>\n",
       "      <td>Cycle Inspection / Re-inspection</td>\n",
       "    </tr>\n",
       "    <tr>\n",
       "      <th>5</th>\n",
       "      <td>40649463</td>\n",
       "      <td>LA BOINA ROJA STEAK HOUSE</td>\n",
       "      <td>QUEENS</td>\n",
       "      <td>8022</td>\n",
       "      <td>37 AVENUE</td>\n",
       "      <td>11372.0</td>\n",
       "      <td>7184246711</td>\n",
       "      <td>Latin (Cuban, Dominican, Puerto Rican, South &amp;...</td>\n",
       "      <td>01/12/2016</td>\n",
       "      <td>Violations were cited in the following area(s).</td>\n",
       "      <td>04L</td>\n",
       "      <td>Evidence of mice or live mice present in facil...</td>\n",
       "      <td>Critical</td>\n",
       "      <td>14.0</td>\n",
       "      <td>NaN</td>\n",
       "      <td>NaN</td>\n",
       "      <td>09/13/2018</td>\n",
       "      <td>Cycle Inspection / Initial Inspection</td>\n",
       "    </tr>\n",
       "    <tr>\n",
       "      <th>6</th>\n",
       "      <td>41344229</td>\n",
       "      <td>GRACE PIZZA</td>\n",
       "      <td>QUEENS</td>\n",
       "      <td>7005</td>\n",
       "      <td>MYRTLE AVENUE</td>\n",
       "      <td>11385.0</td>\n",
       "      <td>7184176018</td>\n",
       "      <td>Pizza/Italian</td>\n",
       "      <td>10/24/2016</td>\n",
       "      <td>Violations were cited in the following area(s).</td>\n",
       "      <td>02G</td>\n",
       "      <td>Cold food item held above 41Âº F (smoked fish ...</td>\n",
       "      <td>Critical</td>\n",
       "      <td>13.0</td>\n",
       "      <td>A</td>\n",
       "      <td>10/24/2016</td>\n",
       "      <td>09/13/2018</td>\n",
       "      <td>Cycle Inspection / Initial Inspection</td>\n",
       "    </tr>\n",
       "    <tr>\n",
       "      <th>7</th>\n",
       "      <td>41250025</td>\n",
       "      <td>YUNG SUN SEAFOOD RESTAURANT</td>\n",
       "      <td>MANHATTAN</td>\n",
       "      <td>47</td>\n",
       "      <td>EAST BROADWAY</td>\n",
       "      <td>10002.0</td>\n",
       "      <td>2123469888</td>\n",
       "      <td>Chinese</td>\n",
       "      <td>06/25/2018</td>\n",
       "      <td>Violations were cited in the following area(s).</td>\n",
       "      <td>09C</td>\n",
       "      <td>Food contact surface not properly maintained.</td>\n",
       "      <td>Not Critical</td>\n",
       "      <td>12.0</td>\n",
       "      <td>A</td>\n",
       "      <td>06/25/2018</td>\n",
       "      <td>09/13/2018</td>\n",
       "      <td>Cycle Inspection / Re-inspection</td>\n",
       "    </tr>\n",
       "    <tr>\n",
       "      <th>8</th>\n",
       "      <td>50040952</td>\n",
       "      <td>FRESH WHITE SWAN BAKERY</td>\n",
       "      <td>MANHATTAN</td>\n",
       "      <td>88</td>\n",
       "      <td>E BROADWAY</td>\n",
       "      <td>10002.0</td>\n",
       "      <td>2122265333</td>\n",
       "      <td>Bakery</td>\n",
       "      <td>02/10/2017</td>\n",
       "      <td>Violations were cited in the following area(s).</td>\n",
       "      <td>04L</td>\n",
       "      <td>Evidence of mice or live mice present in facil...</td>\n",
       "      <td>Critical</td>\n",
       "      <td>12.0</td>\n",
       "      <td>A</td>\n",
       "      <td>02/10/2017</td>\n",
       "      <td>09/13/2018</td>\n",
       "      <td>Cycle Inspection / Re-inspection</td>\n",
       "    </tr>\n",
       "    <tr>\n",
       "      <th>9</th>\n",
       "      <td>50077042</td>\n",
       "      <td>COLD STONE CREAMERY</td>\n",
       "      <td>QUEENS</td>\n",
       "      <td>15714</td>\n",
       "      <td>CROSSBAY BLVD</td>\n",
       "      <td>11414.0</td>\n",
       "      <td>7188436977</td>\n",
       "      <td>Ice Cream, Gelato, Yogurt, Ices</td>\n",
       "      <td>05/21/2018</td>\n",
       "      <td>Violations were cited in the following area(s).</td>\n",
       "      <td>06E</td>\n",
       "      <td>Sanitized equipment or utensil, including in-u...</td>\n",
       "      <td>Critical</td>\n",
       "      <td>17.0</td>\n",
       "      <td>NaN</td>\n",
       "      <td>NaN</td>\n",
       "      <td>09/13/2018</td>\n",
       "      <td>Pre-permit (Operational) / Initial Inspection</td>\n",
       "    </tr>\n",
       "    <tr>\n",
       "      <th>10</th>\n",
       "      <td>50075751</td>\n",
       "      <td>GRAN CAFFE DE MARTINI</td>\n",
       "      <td>BROOKLYN</td>\n",
       "      <td>609</td>\n",
       "      <td>VANDERBILT AVE</td>\n",
       "      <td>11238.0</td>\n",
       "      <td>9293068332</td>\n",
       "      <td>CafÃ©/Coffee/Tea</td>\n",
       "      <td>08/22/2018</td>\n",
       "      <td>Violations were cited in the following area(s).</td>\n",
       "      <td>06C</td>\n",
       "      <td>Food not protected from potential source of co...</td>\n",
       "      <td>Critical</td>\n",
       "      <td>46.0</td>\n",
       "      <td>NaN</td>\n",
       "      <td>NaN</td>\n",
       "      <td>09/13/2018</td>\n",
       "      <td>Pre-permit (Operational) / Initial Inspection</td>\n",
       "    </tr>\n",
       "    <tr>\n",
       "      <th>11</th>\n",
       "      <td>40588166</td>\n",
       "      <td>B &amp; Co.</td>\n",
       "      <td>MANHATTAN</td>\n",
       "      <td>22</td>\n",
       "      <td>PARK PLACE</td>\n",
       "      <td>10007.0</td>\n",
       "      <td>2123741111</td>\n",
       "      <td>Sandwiches/Salads/Mixed Buffet</td>\n",
       "      <td>05/25/2017</td>\n",
       "      <td>Violations were cited in the following area(s).</td>\n",
       "      <td>02G</td>\n",
       "      <td>Cold food item held above 41Âº F (smoked fish ...</td>\n",
       "      <td>Critical</td>\n",
       "      <td>12.0</td>\n",
       "      <td>A</td>\n",
       "      <td>05/25/2017</td>\n",
       "      <td>09/13/2018</td>\n",
       "      <td>Cycle Inspection / Initial Inspection</td>\n",
       "    </tr>\n",
       "    <tr>\n",
       "      <th>12</th>\n",
       "      <td>50033842</td>\n",
       "      <td>RU YI BROADWAY RESTAURANT</td>\n",
       "      <td>QUEENS</td>\n",
       "      <td>8334</td>\n",
       "      <td>BROADWAY</td>\n",
       "      <td>11373.0</td>\n",
       "      <td>7186393366</td>\n",
       "      <td>Chinese</td>\n",
       "      <td>08/14/2017</td>\n",
       "      <td>Violations were cited in the following area(s).</td>\n",
       "      <td>04N</td>\n",
       "      <td>Filth flies or food/refuse/sewage-associated (...</td>\n",
       "      <td>Critical</td>\n",
       "      <td>7.0</td>\n",
       "      <td>NaN</td>\n",
       "      <td>NaN</td>\n",
       "      <td>09/13/2018</td>\n",
       "      <td>Cycle Inspection / Initial Inspection</td>\n",
       "    </tr>\n",
       "    <tr>\n",
       "      <th>13</th>\n",
       "      <td>50002268</td>\n",
       "      <td>DUNKIN' DONUTS</td>\n",
       "      <td>QUEENS</td>\n",
       "      <td>188-23</td>\n",
       "      <td>UNION TURNPIKE</td>\n",
       "      <td>11366.0</td>\n",
       "      <td>3475484154</td>\n",
       "      <td>Donuts</td>\n",
       "      <td>08/01/2018</td>\n",
       "      <td>Violations were cited in the following area(s).</td>\n",
       "      <td>10F</td>\n",
       "      <td>Non-food contact surface improperly constructe...</td>\n",
       "      <td>Not Critical</td>\n",
       "      <td>8.0</td>\n",
       "      <td>A</td>\n",
       "      <td>08/01/2018</td>\n",
       "      <td>09/13/2018</td>\n",
       "      <td>Cycle Inspection / Initial Inspection</td>\n",
       "    </tr>\n",
       "    <tr>\n",
       "      <th>14</th>\n",
       "      <td>50039333</td>\n",
       "      <td>AUNTIE ANNE'S PRETZELS</td>\n",
       "      <td>STATEN ISLAND</td>\n",
       "      <td>2655</td>\n",
       "      <td>RICHMOND AVE</td>\n",
       "      <td>10314.0</td>\n",
       "      <td>7186983360</td>\n",
       "      <td>Bagels/Pretzels</td>\n",
       "      <td>10/04/2016</td>\n",
       "      <td>Violations were cited in the following area(s).</td>\n",
       "      <td>06C</td>\n",
       "      <td>Food not protected from potential source of co...</td>\n",
       "      <td>Critical</td>\n",
       "      <td>12.0</td>\n",
       "      <td>A</td>\n",
       "      <td>10/04/2016</td>\n",
       "      <td>09/13/2018</td>\n",
       "      <td>Cycle Inspection / Initial Inspection</td>\n",
       "    </tr>\n",
       "    <tr>\n",
       "      <th>15</th>\n",
       "      <td>41569904</td>\n",
       "      <td>SWAGAT</td>\n",
       "      <td>MANHATTAN</td>\n",
       "      <td>411</td>\n",
       "      <td>AMSTERDAM AVENUE</td>\n",
       "      <td>10024.0</td>\n",
       "      <td>2123621400</td>\n",
       "      <td>Indian</td>\n",
       "      <td>08/20/2015</td>\n",
       "      <td>Violations were cited in the following area(s).</td>\n",
       "      <td>02G</td>\n",
       "      <td>Cold food item held above 41Âº F (smoked fish ...</td>\n",
       "      <td>Critical</td>\n",
       "      <td>21.0</td>\n",
       "      <td>NaN</td>\n",
       "      <td>NaN</td>\n",
       "      <td>09/13/2018</td>\n",
       "      <td>Cycle Inspection / Initial Inspection</td>\n",
       "    </tr>\n",
       "    <tr>\n",
       "      <th>16</th>\n",
       "      <td>50062913</td>\n",
       "      <td>CHICKY'S ON 86</td>\n",
       "      <td>MANHATTAN</td>\n",
       "      <td>355</td>\n",
       "      <td>E 86TH ST</td>\n",
       "      <td>10028.0</td>\n",
       "      <td>2129968277</td>\n",
       "      <td>Chicken</td>\n",
       "      <td>09/27/2017</td>\n",
       "      <td>Violations were cited in the following area(s).</td>\n",
       "      <td>06C</td>\n",
       "      <td>Food not protected from potential source of co...</td>\n",
       "      <td>Critical</td>\n",
       "      <td>49.0</td>\n",
       "      <td>NaN</td>\n",
       "      <td>NaN</td>\n",
       "      <td>09/13/2018</td>\n",
       "      <td>Pre-permit (Operational) / Initial Inspection</td>\n",
       "    </tr>\n",
       "    <tr>\n",
       "      <th>17</th>\n",
       "      <td>41635390</td>\n",
       "      <td>DON ALEX RESTAURANT</td>\n",
       "      <td>QUEENS</td>\n",
       "      <td>9705</td>\n",
       "      <td>64 AVENUE</td>\n",
       "      <td>11374.0</td>\n",
       "      <td>7182751112</td>\n",
       "      <td>Peruvian</td>\n",
       "      <td>03/19/2018</td>\n",
       "      <td>Violations were cited in the following area(s).</td>\n",
       "      <td>08A</td>\n",
       "      <td>Facility not vermin proof. Harborage or condit...</td>\n",
       "      <td>Not Critical</td>\n",
       "      <td>29.0</td>\n",
       "      <td>NaN</td>\n",
       "      <td>NaN</td>\n",
       "      <td>09/13/2018</td>\n",
       "      <td>Cycle Inspection / Initial Inspection</td>\n",
       "    </tr>\n",
       "    <tr>\n",
       "      <th>18</th>\n",
       "      <td>41553265</td>\n",
       "      <td>MARIA'S</td>\n",
       "      <td>QUEENS</td>\n",
       "      <td>3811</td>\n",
       "      <td>BELL BOULEVARD</td>\n",
       "      <td>11361.0</td>\n",
       "      <td>7182791606</td>\n",
       "      <td>Greek</td>\n",
       "      <td>12/30/2015</td>\n",
       "      <td>Violations were cited in the following area(s).</td>\n",
       "      <td>10B</td>\n",
       "      <td>Plumbing not properly installed or maintained;...</td>\n",
       "      <td>Not Critical</td>\n",
       "      <td>11.0</td>\n",
       "      <td>A</td>\n",
       "      <td>12/30/2015</td>\n",
       "      <td>09/13/2018</td>\n",
       "      <td>Cycle Inspection / Initial Inspection</td>\n",
       "    </tr>\n",
       "    <tr>\n",
       "      <th>19</th>\n",
       "      <td>50070730</td>\n",
       "      <td>591 CHICKEN CUTLET</td>\n",
       "      <td>QUEENS</td>\n",
       "      <td>13655</td>\n",
       "      <td>ROOSEVELT AVE</td>\n",
       "      <td>11354.0</td>\n",
       "      <td>3476679426</td>\n",
       "      <td>Chinese</td>\n",
       "      <td>11/02/2017</td>\n",
       "      <td>Violations were cited in the following area(s).</td>\n",
       "      <td>10F</td>\n",
       "      <td>Non-food contact surface improperly constructe...</td>\n",
       "      <td>Not Critical</td>\n",
       "      <td>14.0</td>\n",
       "      <td>NaN</td>\n",
       "      <td>NaN</td>\n",
       "      <td>09/13/2018</td>\n",
       "      <td>Pre-permit (Operational) / Initial Inspection</td>\n",
       "    </tr>\n",
       "  </tbody>\n",
       "</table>\n",
       "</div>"
      ],
      "text/plain": [
       "       CAMIS                          DBA           BORO BUILDING  \\\n",
       "0   50018348                   EMPIRE III      MANHATTAN     1902   \n",
       "1   41706796           FOREST HILLS DINER         QUEENS     6860   \n",
       "2   41270009                FORTY CARROTS      MANHATTAN     1000   \n",
       "3   50047433            PUSH FITNESS CLUB         QUEENS    18810   \n",
       "4   41163474                       MIRIAM       BROOKLYN       79   \n",
       "5   40649463    LA BOINA ROJA STEAK HOUSE         QUEENS     8022   \n",
       "6   41344229                  GRACE PIZZA         QUEENS     7005   \n",
       "7   41250025  YUNG SUN SEAFOOD RESTAURANT      MANHATTAN       47   \n",
       "8   50040952      FRESH WHITE SWAN BAKERY      MANHATTAN       88   \n",
       "9   50077042          COLD STONE CREAMERY         QUEENS    15714   \n",
       "10  50075751        GRAN CAFFE DE MARTINI       BROOKLYN      609   \n",
       "11  40588166                      B & Co.      MANHATTAN       22   \n",
       "12  50033842    RU YI BROADWAY RESTAURANT         QUEENS     8334   \n",
       "13  50002268               DUNKIN' DONUTS         QUEENS   188-23   \n",
       "14  50039333       AUNTIE ANNE'S PRETZELS  STATEN ISLAND     2655   \n",
       "15  41569904                       SWAGAT      MANHATTAN      411   \n",
       "16  50062913               CHICKY'S ON 86      MANHATTAN      355   \n",
       "17  41635390          DON ALEX RESTAURANT         QUEENS     9705   \n",
       "18  41553265                      MARIA'S         QUEENS     3811   \n",
       "19  50070730           591 CHICKEN CUTLET         QUEENS    13655   \n",
       "\n",
       "              STREET  ZIPCODE       PHONE  \\\n",
       "0    A C POWELL BLVD  10026.0  2122808880   \n",
       "1      AUSTIN STREET  11375.0  7189977744   \n",
       "2           3 AVENUE  10022.0  2127053085   \n",
       "3         UNION TPKE  11366.0  7184647874   \n",
       "4           5 AVENUE  11217.0  7186222250   \n",
       "5          37 AVENUE  11372.0  7184246711   \n",
       "6      MYRTLE AVENUE  11385.0  7184176018   \n",
       "7      EAST BROADWAY  10002.0  2123469888   \n",
       "8         E BROADWAY  10002.0  2122265333   \n",
       "9      CROSSBAY BLVD  11414.0  7188436977   \n",
       "10    VANDERBILT AVE  11238.0  9293068332   \n",
       "11        PARK PLACE  10007.0  2123741111   \n",
       "12          BROADWAY  11373.0  7186393366   \n",
       "13    UNION TURNPIKE  11366.0  3475484154   \n",
       "14      RICHMOND AVE  10314.0  7186983360   \n",
       "15  AMSTERDAM AVENUE  10024.0  2123621400   \n",
       "16         E 86TH ST  10028.0  2129968277   \n",
       "17         64 AVENUE  11374.0  7182751112   \n",
       "18    BELL BOULEVARD  11361.0  7182791606   \n",
       "19     ROOSEVELT AVE  11354.0  3476679426   \n",
       "\n",
       "                                  CUISINE DESCRIPTION INSPECTION DATE  \\\n",
       "0                                             Chinese      04/07/2016   \n",
       "1                                            American      05/21/2015   \n",
       "2                                            American      12/22/2016   \n",
       "3                                            American      04/13/2018   \n",
       "4                                       Mediterranean      02/15/2017   \n",
       "5   Latin (Cuban, Dominican, Puerto Rican, South &...      01/12/2016   \n",
       "6                                       Pizza/Italian      10/24/2016   \n",
       "7                                             Chinese      06/25/2018   \n",
       "8                                              Bakery      02/10/2017   \n",
       "9                     Ice Cream, Gelato, Yogurt, Ices      05/21/2018   \n",
       "10                                   CafÃ©/Coffee/Tea      08/22/2018   \n",
       "11                     Sandwiches/Salads/Mixed Buffet      05/25/2017   \n",
       "12                                            Chinese      08/14/2017   \n",
       "13                                             Donuts      08/01/2018   \n",
       "14                                    Bagels/Pretzels      10/04/2016   \n",
       "15                                             Indian      08/20/2015   \n",
       "16                                            Chicken      09/27/2017   \n",
       "17                                           Peruvian      03/19/2018   \n",
       "18                                              Greek      12/30/2015   \n",
       "19                                            Chinese      11/02/2017   \n",
       "\n",
       "                                             ACTION VIOLATION CODE  \\\n",
       "0   Violations were cited in the following area(s).            04L   \n",
       "1   Violations were cited in the following area(s).            06B   \n",
       "2   Violations were cited in the following area(s).            10H   \n",
       "3   Violations were cited in the following area(s).            02G   \n",
       "4   Violations were cited in the following area(s).            08A   \n",
       "5   Violations were cited in the following area(s).            04L   \n",
       "6   Violations were cited in the following area(s).            02G   \n",
       "7   Violations were cited in the following area(s).            09C   \n",
       "8   Violations were cited in the following area(s).            04L   \n",
       "9   Violations were cited in the following area(s).            06E   \n",
       "10  Violations were cited in the following area(s).            06C   \n",
       "11  Violations were cited in the following area(s).            02G   \n",
       "12  Violations were cited in the following area(s).            04N   \n",
       "13  Violations were cited in the following area(s).            10F   \n",
       "14  Violations were cited in the following area(s).            06C   \n",
       "15  Violations were cited in the following area(s).            02G   \n",
       "16  Violations were cited in the following area(s).            06C   \n",
       "17  Violations were cited in the following area(s).            08A   \n",
       "18  Violations were cited in the following area(s).            10B   \n",
       "19  Violations were cited in the following area(s).            10F   \n",
       "\n",
       "                                VIOLATION DESCRIPTION CRITICAL FLAG  SCORE  \\\n",
       "0   Evidence of mice or live mice present in facil...      Critical   24.0   \n",
       "1   Tobacco use, eating, or drinking from open con...      Critical   27.0   \n",
       "2   Proper sanitization not provided for utensil w...  Not Critical   11.0   \n",
       "3   Cold food item held above 41Âº F (smoked fish ...      Critical   28.0   \n",
       "4   Facility not vermin proof. Harborage or condit...  Not Critical   10.0   \n",
       "5   Evidence of mice or live mice present in facil...      Critical   14.0   \n",
       "6   Cold food item held above 41Âº F (smoked fish ...      Critical   13.0   \n",
       "7       Food contact surface not properly maintained.  Not Critical   12.0   \n",
       "8   Evidence of mice or live mice present in facil...      Critical   12.0   \n",
       "9   Sanitized equipment or utensil, including in-u...      Critical   17.0   \n",
       "10  Food not protected from potential source of co...      Critical   46.0   \n",
       "11  Cold food item held above 41Âº F (smoked fish ...      Critical   12.0   \n",
       "12  Filth flies or food/refuse/sewage-associated (...      Critical    7.0   \n",
       "13  Non-food contact surface improperly constructe...  Not Critical    8.0   \n",
       "14  Food not protected from potential source of co...      Critical   12.0   \n",
       "15  Cold food item held above 41Âº F (smoked fish ...      Critical   21.0   \n",
       "16  Food not protected from potential source of co...      Critical   49.0   \n",
       "17  Facility not vermin proof. Harborage or condit...  Not Critical   29.0   \n",
       "18  Plumbing not properly installed or maintained;...  Not Critical   11.0   \n",
       "19  Non-food contact surface improperly constructe...  Not Critical   14.0   \n",
       "\n",
       "   GRADE  GRADE DATE RECORD DATE  \\\n",
       "0    NaN         NaN  09/13/2018   \n",
       "1    NaN         NaN  09/13/2018   \n",
       "2      A  12/22/2016  09/13/2018   \n",
       "3    NaN         NaN  09/13/2018   \n",
       "4      A  02/15/2017  09/13/2018   \n",
       "5    NaN         NaN  09/13/2018   \n",
       "6      A  10/24/2016  09/13/2018   \n",
       "7      A  06/25/2018  09/13/2018   \n",
       "8      A  02/10/2017  09/13/2018   \n",
       "9    NaN         NaN  09/13/2018   \n",
       "10   NaN         NaN  09/13/2018   \n",
       "11     A  05/25/2017  09/13/2018   \n",
       "12   NaN         NaN  09/13/2018   \n",
       "13     A  08/01/2018  09/13/2018   \n",
       "14     A  10/04/2016  09/13/2018   \n",
       "15   NaN         NaN  09/13/2018   \n",
       "16   NaN         NaN  09/13/2018   \n",
       "17   NaN         NaN  09/13/2018   \n",
       "18     A  12/30/2015  09/13/2018   \n",
       "19   NaN         NaN  09/13/2018   \n",
       "\n",
       "                                  INSPECTION TYPE  \n",
       "0           Cycle Inspection / Initial Inspection  \n",
       "1           Cycle Inspection / Initial Inspection  \n",
       "2           Cycle Inspection / Initial Inspection  \n",
       "3           Cycle Inspection / Initial Inspection  \n",
       "4                Cycle Inspection / Re-inspection  \n",
       "5           Cycle Inspection / Initial Inspection  \n",
       "6           Cycle Inspection / Initial Inspection  \n",
       "7                Cycle Inspection / Re-inspection  \n",
       "8                Cycle Inspection / Re-inspection  \n",
       "9   Pre-permit (Operational) / Initial Inspection  \n",
       "10  Pre-permit (Operational) / Initial Inspection  \n",
       "11          Cycle Inspection / Initial Inspection  \n",
       "12          Cycle Inspection / Initial Inspection  \n",
       "13          Cycle Inspection / Initial Inspection  \n",
       "14          Cycle Inspection / Initial Inspection  \n",
       "15          Cycle Inspection / Initial Inspection  \n",
       "16  Pre-permit (Operational) / Initial Inspection  \n",
       "17          Cycle Inspection / Initial Inspection  \n",
       "18          Cycle Inspection / Initial Inspection  \n",
       "19  Pre-permit (Operational) / Initial Inspection  "
      ]
     },
     "execution_count": 5,
     "metadata": {},
     "output_type": "execute_result"
    }
   ],
   "source": [
    "df.head(20)"
   ]
  },
  {
   "cell_type": "code",
   "execution_count": null,
   "metadata": {
    "collapsed": true,
    "deletable": true,
    "editable": true
   },
   "outputs": [],
   "source": []
  },
  {
   "cell_type": "code",
   "execution_count": null,
   "metadata": {
    "collapsed": true,
    "deletable": true,
    "editable": true
   },
   "outputs": [],
   "source": []
  },
  {
   "cell_type": "markdown",
   "metadata": {
    "collapsed": true,
    "deletable": true,
    "editable": true
   },
   "source": [
    "## Part 2: Explore and Summarize\n",
    "1. Count the number of unique restaurants in the DataFrame.\n",
    "2. Calculate the share of critical inpections.\n",
    "3. Show a histogram of `SCORE`. \n",
    "4. Create a boxplot of `GRADE` against `SCORE`. \n",
    "5. Describe the `INSPECTION DATE` field. \n",
    "6. Count the number of null values for `VIOLATION DESCRIPTION`. \n",
    "7. Print twenty unique non-null values for `VIOLATION DESCRIPTION`. \n"
   ]
  },
  {
   "cell_type": "markdown",
   "metadata": {
    "deletable": true,
    "editable": true
   },
   "source": [
    "Count the number of unique restaurants in the DataFrame."
   ]
  },
  {
   "cell_type": "code",
   "execution_count": 6,
   "metadata": {
    "collapsed": false,
    "deletable": true,
    "editable": true
   },
   "outputs": [
    {
     "data": {
      "text/plain": [
       "26739"
      ]
     },
     "execution_count": 6,
     "metadata": {},
     "output_type": "execute_result"
    }
   ],
   "source": [
    "len(df.CAMIS.unique())"
   ]
  },
  {
   "cell_type": "code",
   "execution_count": null,
   "metadata": {
    "collapsed": true
   },
   "outputs": [],
   "source": []
  },
  {
   "cell_type": "markdown",
   "metadata": {
    "deletable": true,
    "editable": true
   },
   "source": [
    "Calculate the share of critical inpections."
   ]
  },
  {
   "cell_type": "code",
   "execution_count": 7,
   "metadata": {
    "collapsed": false,
    "deletable": true,
    "editable": true
   },
   "outputs": [
    {
     "data": {
      "text/plain": [
       "0.5481889621533736"
      ]
     },
     "execution_count": 7,
     "metadata": {},
     "output_type": "execute_result"
    }
   ],
   "source": [
    "sum(df['CRITICAL FLAG']=='Critical')/df.shape[0]"
   ]
  },
  {
   "cell_type": "markdown",
   "metadata": {
    "deletable": true,
    "editable": true
   },
   "source": [
    "Show a histogram of `SCORE`. "
   ]
  },
  {
   "cell_type": "code",
   "execution_count": 8,
   "metadata": {
    "collapsed": false,
    "deletable": true,
    "editable": true
   },
   "outputs": [
    {
     "data": {
      "text/plain": [
       "<matplotlib.axes._subplots.AxesSubplot at 0x12001a8d0>"
      ]
     },
     "execution_count": 8,
     "metadata": {},
     "output_type": "execute_result"
    },
    {
     "data": {
      "image/png": "[encoded data removed]",
      "text/plain": [
       "<Figure size 432x288 with 1 Axes>"
      ]
     },
     "metadata": {},
     "output_type": "display_data"
    }
   ],
   "source": [
    "df.SCORE.hist()"
   ]
  },
  {
   "cell_type": "markdown",
   "metadata": {
    "deletable": true,
    "editable": true
   },
   "source": [
    "Create a boxplot of `GRADE` against `SCORE`. "
   ]
  },
  {
   "cell_type": "code",
   "execution_count": 9,
   "metadata": {
    "collapsed": false,
    "deletable": true,
    "editable": true
   },
   "outputs": [
    {
     "data": {
      "text/plain": [
       "<matplotlib.axes._subplots.AxesSubplot at 0x10fb01438>"
      ]
     },
     "execution_count": 9,
     "metadata": {},
     "output_type": "execute_result"
    },
    {
     "data": {
      "image/png": "[encoded data removed]",
      "text/plain": [
       "<Figure size 432x288 with 1 Axes>"
      ]
     },
     "metadata": {},
     "output_type": "display_data"
    }
   ],
   "source": [
    "df.boxplot('SCORE', 'GRADE')"
   ]
  },
  {
   "cell_type": "markdown",
   "metadata": {
    "deletable": true,
    "editable": true
   },
   "source": [
    "Describe the `INSPECTION DATE` field. "
   ]
  },
  {
   "cell_type": "code",
   "execution_count": 10,
   "metadata": {
    "collapsed": false,
    "deletable": true,
    "editable": true
   },
   "outputs": [
    {
     "data": {
      "text/plain": [
       "count         376414\n",
       "unique          1329\n",
       "top       01/01/1900\n",
       "freq            1211\n",
       "Name: INSPECTION DATE, dtype: object"
      ]
     },
     "execution_count": 10,
     "metadata": {},
     "output_type": "execute_result"
    }
   ],
   "source": [
    "df['INSPECTION DATE'].describe()"
   ]
  },
  {
   "cell_type": "markdown",
   "metadata": {
    "deletable": true,
    "editable": true
   },
   "source": [
    "Count the number of null values for VIOLATION DESCRIPTION."
   ]
  },
  {
   "cell_type": "code",
   "execution_count": 11,
   "metadata": {
    "collapsed": false,
    "deletable": true,
    "editable": true
   },
   "outputs": [
    {
     "data": {
      "text/plain": [
       "7722"
      ]
     },
     "execution_count": 11,
     "metadata": {},
     "output_type": "execute_result"
    }
   ],
   "source": [
    "sum(df['VIOLATION DESCRIPTION'].isnull())"
   ]
  },
  {
   "cell_type": "markdown",
   "metadata": {
    "deletable": true,
    "editable": true
   },
   "source": [
    "Print twenty unique violation descriptions."
   ]
  },
  {
   "cell_type": "code",
   "execution_count": 12,
   "metadata": {
    "collapsed": false,
    "deletable": true,
    "editable": true
   },
   "outputs": [
    {
     "name": "stdout",
     "output_type": "stream",
     "text": [
      "Evidence of mice or live mice present in facility's food and/or non-food areas. \n",
      "\n",
      "Tobacco use, eating, or drinking from open container in food preparation, food storage or dishwashing area observed. \n",
      "\n",
      "Proper sanitization not provided for utensil ware washing operation. \n",
      "\n",
      "Cold food item held above 41Âº F (smoked fish and reduced oxygen packaged foods above 38 ÂºF) except during necessary preparation. \n",
      "\n",
      "Facility not vermin proof. Harborage or conditions conducive to attracting vermin to the premises and/or allowing vermin to exist. \n",
      "\n",
      "Food contact surface not properly maintained. \n",
      "\n",
      "Sanitized equipment or utensil, including in-use food dispensing utensil, improperly used or stored. \n",
      "\n",
      "Food not protected from potential source of contamination during storage, preparation, transportation, display or service. \n",
      "\n",
      "Filth flies or food/refuse/sewage-associated (FRSA) flies present in facility\u001as food and/or non-food areas. Filth flies include house flies, little house flies, blow flies, bottle flies and flesh flies. Food/refuse/sewage-associated flies include fruit flies, drain flies and Phorid flies. \n",
      "\n",
      "Non-food contact surface improperly constructed. Unacceptable material used. Non-food contact surface or equipment improperly maintained and/or not properly sealed, raised, spaced or movable to allow accessibility for cleaning on all sides, above and underneath the unit. \n",
      "\n",
      "Plumbing not properly installed or maintained; anti-siphonage or backflow prevention device not provided where required; equipment or floor not properly drained; sewage disposal system in disrepair or not functioning properly. \n",
      "\n",
      "Canned food product observed dented and not segregated from other consumable food items. \n",
      "\n",
      "Hot food item not held at or above 140Âº F. \n",
      "\n",
      "Wiping cloths soiled or not stored in sanitizing solution. \n",
      "\n",
      "Food contact surface not properly washed, rinsed and sanitized after each use and following any activity when contamination may have occurred. \n",
      "\n",
      "Evidence of rats or live rats present in facility's food and/or non-food areas. \n",
      "\n",
      "Food worker does not use proper utensil to eliminate bare hand contact with food that will not receive adequate additional heat treatment. \n",
      "\n",
      "Insufficient or no refrigerated or hot holding equipment to keep potentially hazardous foods at required temperatures. \n",
      "\n",
      "Live roaches present in facility's food and/or non-food areas. \n",
      "\n",
      "Appropriately scaled metal stem-type thermometer or thermocouple not provided or used to evaluate temperatures of potentially hazardous foods during cooking, cooling, reheating and holding. \n",
      "\n"
     ]
    }
   ],
   "source": [
    "for d in df['VIOLATION DESCRIPTION'].unique()[:20]:\n",
    "    print(d, '\\n')"
   ]
  },
  {
   "cell_type": "code",
   "execution_count": null,
   "metadata": {
    "collapsed": true,
    "deletable": true,
    "editable": true
   },
   "outputs": [],
   "source": []
  },
  {
   "cell_type": "markdown",
   "metadata": {
    "deletable": true,
    "editable": true
   },
   "source": [
    "## Part 3: Create Clean Variables\n",
    "1. Transform `INSPECTION DATE` to datetime in new variable `inspection_datetime`.\n",
    "2. Create a `inspection_year` variable with the year of the `INSPECTION DATE`.\n",
    "4. Drop observations with `inspection_year` before 2014. \n",
    "5. Drop observations with null values for `VIOLATION DESCRIPTION`. \n",
    "6. Create a `found_vermin` variable for any `VIOLATION DESCRIPTION` containing *vermin*, *mouse*, *mice*, or *rat*.\n",
    "7. Create a `found_bugs` variable for any `VIOLATION DESCRIPTION` containing *insect*, *roach*, or *flies*.\n",
    "8. Create a `bad_temp` variable for any `VIOLATION DESCRIPTION` containing *temperature* or *Âº F*.\n",
    "\n",
    "\n",
    "Transform `INSPECTION DATE` to datetime in new variable `inspection_datetime`."
   ]
  },
  {
   "cell_type": "code",
   "execution_count": 13,
   "metadata": {
    "collapsed": true,
    "deletable": true,
    "editable": true
   },
   "outputs": [],
   "source": [
    "df['inspection_datetime'] = pd.to_datetime(df['INSPECTION DATE'])"
   ]
  },
  {
   "cell_type": "markdown",
   "metadata": {
    "deletable": true,
    "editable": true
   },
   "source": [
    "Create an `inspection_year` variable with the year of the `INSPECTION DATE`.\n"
   ]
  },
  {
   "cell_type": "code",
   "execution_count": 14,
   "metadata": {
    "collapsed": false,
    "deletable": true,
    "editable": true
   },
   "outputs": [],
   "source": [
    "df['inspection_year'] = df['inspection_datetime'].dt.year"
   ]
  },
  {
   "cell_type": "markdown",
   "metadata": {
    "deletable": true,
    "editable": true
   },
   "source": [
    "Drop observations with `inspection_year` before 2014. "
   ]
  },
  {
   "cell_type": "code",
   "execution_count": 15,
   "metadata": {
    "collapsed": false,
    "deletable": true,
    "editable": true
   },
   "outputs": [
    {
     "name": "stdout",
     "output_type": "stream",
     "text": [
      "(375190, 20)\n"
     ]
    },
    {
     "data": {
      "text/plain": [
       "<matplotlib.axes._subplots.AxesSubplot at 0x1208eb518>"
      ]
     },
     "execution_count": 15,
     "metadata": {},
     "output_type": "execute_result"
    },
    {
     "data": {
      "image/png": "[encoded data removed]",
      "text/plain": [
       "<Figure size 432x288 with 1 Axes>"
      ]
     },
     "metadata": {},
     "output_type": "display_data"
    }
   ],
   "source": [
    "df = df.loc[(df.inspection_year>=2014),]\n",
    "print(df.shape)\n",
    "df.inspection_year.hist()"
   ]
  },
  {
   "cell_type": "markdown",
   "metadata": {
    "deletable": true,
    "editable": true
   },
   "source": [
    "Drop observations with null values for `VIOLATION DESCRIPTION`."
   ]
  },
  {
   "cell_type": "code",
   "execution_count": 16,
   "metadata": {
    "collapsed": false,
    "deletable": true,
    "editable": true
   },
   "outputs": [
    {
     "name": "stdout",
     "output_type": "stream",
     "text": [
      "(368680, 20)\n"
     ]
    }
   ],
   "source": [
    "df = df.loc[(df['VIOLATION DESCRIPTION'].notnull()),]\n",
    "print(df.shape)"
   ]
  },
  {
   "cell_type": "markdown",
   "metadata": {
    "deletable": true,
    "editable": true
   },
   "source": [
    "Create a `found_vermin` variable for any `VIOLATION DESCRIPTION` containing *vermin*, *mouse*, *mice*, or *rat*.\n"
   ]
  },
  {
   "cell_type": "code",
   "execution_count": 17,
   "metadata": {
    "collapsed": false,
    "deletable": true,
    "editable": true
   },
   "outputs": [
    {
     "data": {
      "text/plain": [
       "157760"
      ]
     },
     "execution_count": 17,
     "metadata": {},
     "output_type": "execute_result"
    }
   ],
   "source": [
    "df['found_vermin'] = df['VIOLATION DESCRIPTION'].str.contains('vermin|mouse|mice|rat')\n",
    "\n",
    "df.found_vermin.sum()"
   ]
  },
  {
   "cell_type": "markdown",
   "metadata": {
    "deletable": true,
    "editable": true
   },
   "source": [
    "Create a `found_bugs` variable for any `VIOLATION DESCRIPTION` containing *insect*, *roach*, or *flies*."
   ]
  },
  {
   "cell_type": "code",
   "execution_count": 18,
   "metadata": {
    "collapsed": false,
    "deletable": true,
    "editable": true
   },
   "outputs": [
    {
     "data": {
      "text/plain": [
       "27346"
      ]
     },
     "execution_count": 18,
     "metadata": {},
     "output_type": "execute_result"
    }
   ],
   "source": [
    "df['found_bugs'] = df['VIOLATION DESCRIPTION'].str.contains('insect|roach|flies')\n",
    "\n",
    "df.found_bugs.sum()"
   ]
  },
  {
   "cell_type": "code",
   "execution_count": null,
   "metadata": {
    "collapsed": false,
    "deletable": true,
    "editable": true
   },
   "outputs": [],
   "source": []
  },
  {
   "cell_type": "code",
   "execution_count": null,
   "metadata": {
    "collapsed": true,
    "deletable": true,
    "editable": true
   },
   "outputs": [],
   "source": []
  },
  {
   "cell_type": "markdown",
   "metadata": {
    "deletable": true,
    "editable": true
   },
   "source": [
    "## Part 4: Create a Working Subset\n",
    "\n",
    "1. Create a working subset DataFrame called `rest_df` with data grouped by restaurant - take the max value for the following fields: `'CAMIS', 'DBA', 'BORO', 'BUILDING', 'STREET', 'ZIPCODE', 'PHONE', 'CUISINE DESCRIPTION', 'inspection_datetime',` and `'inspection_year'`.\n",
    "2. Create another working subset DataFrame called `violation_df` with data grouped by restaurant - take the sum value for `'found_vermin'` and `'found_bugs'`.\n",
    "3. Merge `rest_df` with `violation_df` to create `new_df`.\n",
    "4. Show the top 20 value_counts for `CUISINE DESCRIPTION`.\n",
    "5. Use the `cuisine_dict` to create a `cuisine_new` column with the `CUISINE DESCRIPTION`\n",
    "6. Replace the `CUISINE DESCRIPTION` for `CafÃ©/Coffee/Tea` with `Coffee`."
   ]
  },
  {
   "cell_type": "markdown",
   "metadata": {
    "deletable": true,
    "editable": true
   },
   "source": [
    "Create a working subset DataFrame called `rest_df` with data grouped by restaurant - take the max value for the following fields: `'CAMIS', 'DBA', 'BORO', 'BUILDING', 'STREET', 'ZIPCODE', 'PHONE', 'CUISINE DESCRIPTION', 'inspection_datetime',` and `'inspection_year'`.\n"
   ]
  },
  {
   "cell_type": "code",
   "execution_count": 19,
   "metadata": {
    "collapsed": false,
    "deletable": true,
    "editable": true
   },
   "outputs": [
    {
     "data": {
      "text/html": [
       "<div>\n",
       "<style scoped>\n",
       "    .dataframe tbody tr th:only-of-type {\n",
       "        vertical-align: middle;\n",
       "    }\n",
       "\n",
       "    .dataframe tbody tr th {\n",
       "        vertical-align: top;\n",
       "    }\n",
       "\n",
       "    .dataframe thead th {\n",
       "        text-align: right;\n",
       "    }\n",
       "</style>\n",
       "<table border=\"1\" class=\"dataframe\">\n",
       "  <thead>\n",
       "    <tr style=\"text-align: right;\">\n",
       "      <th></th>\n",
       "      <th>DBA</th>\n",
       "      <th>BORO</th>\n",
       "      <th>BUILDING</th>\n",
       "      <th>STREET</th>\n",
       "      <th>ZIPCODE</th>\n",
       "      <th>PHONE</th>\n",
       "      <th>CUISINE DESCRIPTION</th>\n",
       "      <th>inspection_datetime</th>\n",
       "      <th>inspection_year</th>\n",
       "    </tr>\n",
       "    <tr>\n",
       "      <th>CAMIS</th>\n",
       "      <th></th>\n",
       "      <th></th>\n",
       "      <th></th>\n",
       "      <th></th>\n",
       "      <th></th>\n",
       "      <th></th>\n",
       "      <th></th>\n",
       "      <th></th>\n",
       "      <th></th>\n",
       "    </tr>\n",
       "  </thead>\n",
       "  <tbody>\n",
       "    <tr>\n",
       "      <th>30075445</th>\n",
       "      <td>MORRIS PARK BAKE SHOP</td>\n",
       "      <td>BRONX</td>\n",
       "      <td>1007</td>\n",
       "      <td>MORRIS PARK AVE</td>\n",
       "      <td>10462.0</td>\n",
       "      <td>7188924968</td>\n",
       "      <td>Bakery</td>\n",
       "      <td>2018-05-11</td>\n",
       "      <td>2018</td>\n",
       "    </tr>\n",
       "    <tr>\n",
       "      <th>30112340</th>\n",
       "      <td>WENDY'S</td>\n",
       "      <td>BROOKLYN</td>\n",
       "      <td>469</td>\n",
       "      <td>FLATBUSH AVENUE</td>\n",
       "      <td>11225.0</td>\n",
       "      <td>7182875005</td>\n",
       "      <td>Hamburgers</td>\n",
       "      <td>2018-03-13</td>\n",
       "      <td>2018</td>\n",
       "    </tr>\n",
       "    <tr>\n",
       "      <th>30191841</th>\n",
       "      <td>DJ REYNOLDS PUB AND RESTAURANT</td>\n",
       "      <td>MANHATTAN</td>\n",
       "      <td>351</td>\n",
       "      <td>WEST   57 STREET</td>\n",
       "      <td>10019.0</td>\n",
       "      <td>2122452912</td>\n",
       "      <td>Irish</td>\n",
       "      <td>2018-05-16</td>\n",
       "      <td>2018</td>\n",
       "    </tr>\n",
       "  </tbody>\n",
       "</table>\n",
       "</div>"
      ],
      "text/plain": [
       "                                     DBA       BORO BUILDING  \\\n",
       "CAMIS                                                          \n",
       "30075445           MORRIS PARK BAKE SHOP      BRONX     1007   \n",
       "30112340                         WENDY'S   BROOKLYN      469   \n",
       "30191841  DJ REYNOLDS PUB AND RESTAURANT  MANHATTAN      351   \n",
       "\n",
       "                    STREET  ZIPCODE       PHONE CUISINE DESCRIPTION  \\\n",
       "CAMIS                                                                 \n",
       "30075445   MORRIS PARK AVE  10462.0  7188924968              Bakery   \n",
       "30112340   FLATBUSH AVENUE  11225.0  7182875005          Hamburgers   \n",
       "30191841  WEST   57 STREET  10019.0  2122452912               Irish   \n",
       "\n",
       "         inspection_datetime  inspection_year  \n",
       "CAMIS                                          \n",
       "30075445          2018-05-11             2018  \n",
       "30112340          2018-03-13             2018  \n",
       "30191841          2018-05-16             2018  "
      ]
     },
     "execution_count": 19,
     "metadata": {},
     "output_type": "execute_result"
    }
   ],
   "source": [
    "rest_df = df[['CAMIS', 'DBA', 'BORO', 'BUILDING', 'STREET', 'ZIPCODE', 'PHONE', \n",
    "             'CUISINE DESCRIPTION', 'inspection_datetime', 'inspection_year']\n",
    "            ].groupby('CAMIS').max()\n",
    "\n",
    "rest_df.head(3)"
   ]
  },
  {
   "cell_type": "markdown",
   "metadata": {
    "deletable": true,
    "editable": true
   },
   "source": [
    "Create another working subset DataFrame called `violation_df` with data grouped by restaurant - take the sum value for `'found_vermin'` and `'found_bugs'`.\n"
   ]
  },
  {
   "cell_type": "code",
   "execution_count": 20,
   "metadata": {
    "collapsed": false,
    "deletable": true,
    "editable": true
   },
   "outputs": [
    {
     "data": {
      "text/html": [
       "<div>\n",
       "<style scoped>\n",
       "    .dataframe tbody tr th:only-of-type {\n",
       "        vertical-align: middle;\n",
       "    }\n",
       "\n",
       "    .dataframe tbody tr th {\n",
       "        vertical-align: top;\n",
       "    }\n",
       "\n",
       "    .dataframe thead th {\n",
       "        text-align: right;\n",
       "    }\n",
       "</style>\n",
       "<table border=\"1\" class=\"dataframe\">\n",
       "  <thead>\n",
       "    <tr style=\"text-align: right;\">\n",
       "      <th></th>\n",
       "      <th>found_vermin</th>\n",
       "      <th>found_bugs</th>\n",
       "    </tr>\n",
       "    <tr>\n",
       "      <th>CAMIS</th>\n",
       "      <th></th>\n",
       "      <th></th>\n",
       "    </tr>\n",
       "  </thead>\n",
       "  <tbody>\n",
       "    <tr>\n",
       "      <th>30075445</th>\n",
       "      <td>2.0</td>\n",
       "      <td>0.0</td>\n",
       "    </tr>\n",
       "    <tr>\n",
       "      <th>30112340</th>\n",
       "      <td>9.0</td>\n",
       "      <td>3.0</td>\n",
       "    </tr>\n",
       "    <tr>\n",
       "      <th>30191841</th>\n",
       "      <td>7.0</td>\n",
       "      <td>1.0</td>\n",
       "    </tr>\n",
       "  </tbody>\n",
       "</table>\n",
       "</div>"
      ],
      "text/plain": [
       "          found_vermin  found_bugs\n",
       "CAMIS                             \n",
       "30075445           2.0         0.0\n",
       "30112340           9.0         3.0\n",
       "30191841           7.0         1.0"
      ]
     },
     "execution_count": 20,
     "metadata": {},
     "output_type": "execute_result"
    }
   ],
   "source": [
    "violation_df = df[['CAMIS', 'found_vermin', 'found_bugs']].groupby('CAMIS').sum()\n",
    "\n",
    "violation_df.head(3)"
   ]
  },
  {
   "cell_type": "markdown",
   "metadata": {
    "deletable": true,
    "editable": true
   },
   "source": [
    "Join `rest_df` with `violation_df` to create `new_df`.\n"
   ]
  },
  {
   "cell_type": "code",
   "execution_count": 21,
   "metadata": {
    "collapsed": true,
    "deletable": true,
    "editable": true
   },
   "outputs": [],
   "source": [
    "new_df = rest_df.join(violation_df)"
   ]
  },
  {
   "cell_type": "markdown",
   "metadata": {
    "deletable": true,
    "editable": true
   },
   "source": [
    "Show the top 20 value_counts for `CUISINE DESCRIPTION`."
   ]
  },
  {
   "cell_type": "code",
   "execution_count": 22,
   "metadata": {
    "collapsed": false,
    "deletable": true,
    "editable": true
   },
   "outputs": [
    {
     "data": {
      "text/plain": [
       "American            5901\n",
       "Chinese             2398\n",
       "CafÃ©/Coffee/Tea    1672\n",
       "Pizza               1179\n",
       "Italian              998\n",
       "Name: CUISINE DESCRIPTION, dtype: int64"
      ]
     },
     "execution_count": 22,
     "metadata": {},
     "output_type": "execute_result"
    }
   ],
   "source": [
    "new_df['CUISINE DESCRIPTION'].value_counts().head(5)"
   ]
  },
  {
   "cell_type": "markdown",
   "metadata": {
    "deletable": true,
    "editable": true
   },
   "source": [
    "Replace the `CUISINE DESCRIPTION` for `CafÃ©/Coffee/Tea` with `Coffee`."
   ]
  },
  {
   "cell_type": "code",
   "execution_count": 23,
   "metadata": {
    "collapsed": false,
    "deletable": true,
    "editable": true
   },
   "outputs": [
    {
     "data": {
      "text/plain": [
       "American    5901\n",
       "Chinese     2398\n",
       "Coffee      1672\n",
       "Pizza       1179\n",
       "Italian      998\n",
       "Name: CUISINE DESCRIPTION, dtype: int64"
      ]
     },
     "execution_count": 23,
     "metadata": {},
     "output_type": "execute_result"
    }
   ],
   "source": [
    "new_df.loc[new_df['CUISINE DESCRIPTION']=='CafÃ©/Coffee/Tea', 'CUISINE DESCRIPTION'] = 'Coffee'\n",
    "\n",
    "new_df['CUISINE DESCRIPTION'].value_counts().head(5)"
   ]
  },
  {
   "cell_type": "code",
   "execution_count": null,
   "metadata": {
    "collapsed": true,
    "deletable": true,
    "editable": true
   },
   "outputs": [],
   "source": []
  },
  {
   "cell_type": "code",
   "execution_count": null,
   "metadata": {
    "collapsed": true,
    "deletable": true,
    "editable": true
   },
   "outputs": [],
   "source": []
  },
  {
   "cell_type": "markdown",
   "metadata": {
    "deletable": true,
    "editable": true
   },
   "source": [
    "## Bonus Round: Using Outside Resources to Clean Data\n",
    "\n",
    "Oftentimes, external services - or even services from other teams within your own company - will exist to help process data. One handy example case we can use here is the [NYC Geoclient](https://api.cityofnewyork.us/geoclient/v1/doc), a REST api that returns location information for an arbitrary address in New York City. It's an awesome resource!\n",
    "\n",
    "For the purposes of this exercise, I've included an API id below and gave you the key in class, but you can sign up for your own key at the [NYC Developer Portal](https://developer.cityofnewyork.us/).\n",
    "\n",
    "We can use this to find the exact location for each coffee shop in our data set. \n",
    "\n",
    "1. First, create a function to return the latitude and longitude for a given building number, street address, borough, and zip code. \n",
    "2. Next, create a new subset of data for a single cuisine. \n",
    "3. Apply the function from Step 1 to the df from Step 2.\n"
   ]
  },
  {
   "cell_type": "code",
   "execution_count": 24,
   "metadata": {
    "collapsed": false,
    "deletable": true,
    "editable": true
   },
   "outputs": [],
   "source": [
    "def get_coordinates(row):\n",
    "\n",
    "    url = 'https://api.cityofnewyork.us/geoclient/v1/address.json'\n",
    "\n",
    "    params = {\n",
    "        'houseNumber' : row['BUILDING'],\n",
    "        'street' : row['STREET'],\n",
    "        'borough' : row['BORO'],\n",
    "        'zip' : row['ZIPCODE'],    \n",
    "        'app_id' : '7cc1b653',\n",
    "        'app_key' : 'xxxxxx',   \n",
    "    }\n",
    "\n",
    "    raw_response = requests.get(url, params)\n",
    "    \n",
    "    try: \n",
    "        lat = raw_response.json()['address']['latitude']\n",
    "        long = raw_response.json()['address']['longitude']\n",
    "        value = str(lat) + ',' + str(long)\n",
    "    except KeyError:\n",
    "        value = None\n",
    "    \n",
    "    return value"
   ]
  },
  {
   "cell_type": "code",
   "execution_count": 25,
   "metadata": {
    "collapsed": true,
    "deletable": true,
    "editable": true
   },
   "outputs": [],
   "source": [
    "cuisine_df = new_df.loc[new_df['CUISINE DESCRIPTION']=='Ice Cream, Gelato, Yogurt, Ices', ]"
   ]
  },
  {
   "cell_type": "code",
   "execution_count": 26,
   "metadata": {
    "collapsed": false,
    "deletable": true,
    "editable": true
   },
   "outputs": [
    {
     "name": "stderr",
     "output_type": "stream",
     "text": [
      "/Users/grant/anaconda/envs/py36/lib/python3.6/site-packages/ipykernel/__main__.py:1: SettingWithCopyWarning: \n",
      "A value is trying to be set on a copy of a slice from a DataFrame.\n",
      "Try using .loc[row_indexer,col_indexer] = value instead\n",
      "\n",
      "See the caveats in the documentation: http://pandas.pydata.org/pandas-docs/stable/indexing.html#indexing-view-versus-copy\n",
      "  if __name__ == '__main__':\n"
     ]
    }
   ],
   "source": [
    "cuisine_df['coordinates'] = cuisine_df.apply(get_coordinates, axis=1)"
   ]
  },
  {
   "cell_type": "code",
   "execution_count": 27,
   "metadata": {
    "collapsed": false,
    "deletable": true,
    "editable": true
   },
   "outputs": [
    {
     "name": "stderr",
     "output_type": "stream",
     "text": [
      "/Users/grant/anaconda/envs/py36/lib/python3.6/site-packages/ipykernel/__main__.py:1: SettingWithCopyWarning: \n",
      "A value is trying to be set on a copy of a slice from a DataFrame.\n",
      "Try using .loc[row_indexer,col_indexer] = value instead\n",
      "\n",
      "See the caveats in the documentation: http://pandas.pydata.org/pandas-docs/stable/indexing.html#indexing-view-versus-copy\n",
      "  if __name__ == '__main__':\n",
      "/Users/grant/anaconda/envs/py36/lib/python3.6/site-packages/ipykernel/__main__.py:2: SettingWithCopyWarning: \n",
      "A value is trying to be set on a copy of a slice from a DataFrame.\n",
      "Try using .loc[row_indexer,col_indexer] = value instead\n",
      "\n",
      "See the caveats in the documentation: http://pandas.pydata.org/pandas-docs/stable/indexing.html#indexing-view-versus-copy\n",
      "  from ipykernel import kernelapp as app\n"
     ]
    }
   ],
   "source": [
    "cuisine_df['latitude'] = cuisine_df.coordinates.str.split(',').str.get(0).astype(float)\n",
    "cuisine_df['longitude'] = cuisine_df.coordinates.str.split(',').str.get(1).astype(float)\n"
   ]
  },
  {
   "cell_type": "code",
   "execution_count": 28,
   "metadata": {
    "collapsed": false,
    "deletable": true,
    "editable": true
   },
   "outputs": [
    {
     "data": {
      "text/plain": [
       "<matplotlib.axes._subplots.AxesSubplot at 0x1209eca58>"
      ]
     },
     "execution_count": 28,
     "metadata": {},
     "output_type": "execute_result"
    },
    {
     "data": {
      "image/png": "[encoded data removed]",
      "text/plain": [
       "<Figure size 432x288 with 1 Axes>"
      ]
     },
     "metadata": {},
     "output_type": "display_data"
    }
   ],
   "source": [
    "cuisine_df.plot.scatter('latitude', 'longitude')"
   ]
  },
  {
   "cell_type": "code",
   "execution_count": null,
   "metadata": {
    "collapsed": true,
    "deletable": true,
    "editable": true
   },
   "outputs": [],
   "source": []
  },
  {
   "cell_type": "code",
   "execution_count": null,
   "metadata": {
    "collapsed": true,
    "deletable": true,
    "editable": true
   },
   "outputs": [],
   "source": []
  },
  {
   "cell_type": "code",
   "execution_count": null,
   "metadata": {
    "collapsed": true,
    "deletable": true,
    "editable": true
   },
   "outputs": [],
   "source": []
  },
  {
   "cell_type": "code",
   "execution_count": null,
   "metadata": {
    "collapsed": true,
    "deletable": true,
    "editable": true
   },
   "outputs": [],
   "source": []
  },
  {
   "cell_type": "code",
   "execution_count": null,
   "metadata": {
    "collapsed": true,
    "deletable": true,
    "editable": true
   },
   "outputs": [],
   "source": []
  },
  {
   "cell_type": "code",
   "execution_count": null,
   "metadata": {
    "collapsed": true,
    "deletable": true,
    "editable": true
   },
   "outputs": [],
   "source": []
  },
  {
   "cell_type": "code",
   "execution_count": null,
   "metadata": {
    "collapsed": true,
    "deletable": true,
    "editable": true
   },
   "outputs": [],
   "source": []
  },
  {
   "cell_type": "code",
   "execution_count": null,
   "metadata": {
    "collapsed": true,
    "deletable": true,
    "editable": true
   },
   "outputs": [],
   "source": []
  },
  {
   "cell_type": "code",
   "execution_count": null,
   "metadata": {
    "collapsed": true,
    "deletable": true,
    "editable": true
   },
   "outputs": [],
   "source": []
  }
 ],
 "metadata": {
  "anaconda-cloud": {},
  "kernelspec": {
   "display_name": "Python [py36]",
   "language": "python",
   "name": "Python [py36]"
  },
  "language_info": {
   "codemirror_mode": {
    "name": "ipython",
    "version": 3
   },
   "file_extension": ".py",
   "mimetype": "text/x-python",
   "name": "python",
   "nbconvert_exporter": "python",
   "pygments_lexer": "ipython3",
   "version": "3.6.2"
  }
 },
 "nbformat": 4,
 "nbformat_minor": 0
}
