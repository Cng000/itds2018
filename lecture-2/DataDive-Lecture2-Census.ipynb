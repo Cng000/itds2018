{
 "cells": [
  {
   "cell_type": "markdown",
   "metadata": {},
   "source": [
    "# Data Dive 2: Loading and Summarizing Data\n",
    "### Part 1: Tapping the Census API for Valuable Insights\n",
    "\n",
    "The U.S. Census API is an extremely rich data source by itself, but also one that can enhance and provide insights into other datasets. In the first part of today's exercise, we'll put \n",
    "\n",
    "Helpful links:\n",
    "* [List](https://api.census.gov/data/2016/acs/acs5/variables.html) of census variables provided by the API. \n",
    "* [Sample queries](https://api.census.gov/data/2016/acs/acs5/examples.html)\n",
    "\n",
    "Today we'll be using the 2016 ACS 5-year sample. The details of the different ACS samples are beyond the context of this class, but suffice to say that these estimates are built of five years of data from the ongoing ACS. \n",
    "\n",
    "The Census API, like many others, requires a *developer key* to use the API regularly. You can sign up for one [here](). "
   ]
  },
  {
   "cell_type": "code",
   "execution_count": 1,
   "metadata": {
    "collapsed": true,
    "deletable": true,
    "editable": true
   },
   "outputs": [],
   "source": [
    "import pandas as pd\n",
    "import requests\n"
   ]
  },
  {
   "cell_type": "code",
   "execution_count": 2,
   "metadata": {
    "collapsed": false,
    "deletable": true,
    "editable": true
   },
   "outputs": [
    {
     "name": "stdout",
     "output_type": "stream",
     "text": [
      "https://api.census.gov/data/2016/acs/acs5?get=NAME%2CB01001_001E%2CB19013_001E&for=county%3A%2A&in=state%3A%2A\n"
     ]
    }
   ],
   "source": [
    "url = 'https://api.census.gov/data/2016/acs/acs5?'\n",
    "params = {'get' : 'NAME,B01001_001E,B19013_001E',\n",
    "          'for' : 'county:*',\n",
    "          'in' : 'state:*'}\n",
    "\n",
    "r = requests.get(url, params=params)\n",
    "print(r.url)"
   ]
  },
  {
   "cell_type": "markdown",
   "metadata": {},
   "source": [
    "Load our results into a data frame."
   ]
  },
  {
   "cell_type": "code",
   "execution_count": 12,
   "metadata": {
    "collapsed": true
   },
   "outputs": [],
   "source": [
    "# In this case, we set the first row of results as the headers.\n",
    "census_df = pd.DataFrame(r.json()[1:], columns=r.json()[0])\n"
   ]
  },
  {
   "cell_type": "code",
   "execution_count": 6,
   "metadata": {
    "collapsed": false
   },
   "outputs": [
    {
     "data": {
      "text/html": [
       "<div>\n",
       "<style scoped>\n",
       "    .dataframe tbody tr th:only-of-type {\n",
       "        vertical-align: middle;\n",
       "    }\n",
       "\n",
       "    .dataframe tbody tr th {\n",
       "        vertical-align: top;\n",
       "    }\n",
       "\n",
       "    .dataframe thead th {\n",
       "        text-align: right;\n",
       "    }\n",
       "</style>\n",
       "<table border=\"1\" class=\"dataframe\">\n",
       "  <thead>\n",
       "    <tr style=\"text-align: right;\">\n",
       "      <th></th>\n",
       "      <th>Total Population</th>\n",
       "      <th>Median Household Income</th>\n",
       "      <th>County Number</th>\n",
       "    </tr>\n",
       "    <tr>\n",
       "      <th>County Name</th>\n",
       "      <th></th>\n",
       "      <th></th>\n",
       "      <th></th>\n",
       "    </tr>\n",
       "  </thead>\n",
       "  <tbody>\n",
       "    <tr>\n",
       "      <th>Loudoun County, Virginia</th>\n",
       "      <td>362435</td>\n",
       "      <td>125672</td>\n",
       "      <td>51107</td>\n",
       "    </tr>\n",
       "    <tr>\n",
       "      <th>Falls Church city, Virginia</th>\n",
       "      <td>13597</td>\n",
       "      <td>115244</td>\n",
       "      <td>51610</td>\n",
       "    </tr>\n",
       "    <tr>\n",
       "      <th>Fairfax County, Virginia</th>\n",
       "      <td>1132887</td>\n",
       "      <td>114329</td>\n",
       "      <td>51059</td>\n",
       "    </tr>\n",
       "    <tr>\n",
       "      <th>Howard County, Maryland</th>\n",
       "      <td>308447</td>\n",
       "      <td>113800</td>\n",
       "      <td>24027</td>\n",
       "    </tr>\n",
       "    <tr>\n",
       "      <th>Arlington County, Virginia</th>\n",
       "      <td>226092</td>\n",
       "      <td>108706</td>\n",
       "      <td>51013</td>\n",
       "    </tr>\n",
       "    <tr>\n",
       "      <th>Hunterdon County, New Jersey</th>\n",
       "      <td>125708</td>\n",
       "      <td>108177</td>\n",
       "      <td>34019</td>\n",
       "    </tr>\n",
       "    <tr>\n",
       "      <th>Los Alamos County, New Mexico</th>\n",
       "      <td>17895</td>\n",
       "      <td>105902</td>\n",
       "      <td>35028</td>\n",
       "    </tr>\n",
       "    <tr>\n",
       "      <th>Douglas County, Colorado</th>\n",
       "      <td>314238</td>\n",
       "      <td>105759</td>\n",
       "      <td>08035</td>\n",
       "    </tr>\n",
       "    <tr>\n",
       "      <th>Fairfax city, Virginia</th>\n",
       "      <td>23620</td>\n",
       "      <td>104065</td>\n",
       "      <td>51600</td>\n",
       "    </tr>\n",
       "    <tr>\n",
       "      <th>Morris County, New Jersey</th>\n",
       "      <td>498215</td>\n",
       "      <td>102798</td>\n",
       "      <td>34027</td>\n",
       "    </tr>\n",
       "  </tbody>\n",
       "</table>\n",
       "</div>"
      ],
      "text/plain": [
       "                               Total Population  Median Household Income  \\\n",
       "County Name                                                                \n",
       "Loudoun County, Virginia                 362435                   125672   \n",
       "Falls Church city, Virginia               13597                   115244   \n",
       "Fairfax County, Virginia                1132887                   114329   \n",
       "Howard County, Maryland                  308447                   113800   \n",
       "Arlington County, Virginia               226092                   108706   \n",
       "Hunterdon County, New Jersey             125708                   108177   \n",
       "Los Alamos County, New Mexico             17895                   105902   \n",
       "Douglas County, Colorado                 314238                   105759   \n",
       "Fairfax city, Virginia                    23620                   104065   \n",
       "Morris County, New Jersey                498215                   102798   \n",
       "\n",
       "                              County Number  \n",
       "County Name                                  \n",
       "Loudoun County, Virginia              51107  \n",
       "Falls Church city, Virginia           51610  \n",
       "Fairfax County, Virginia              51059  \n",
       "Howard County, Maryland               24027  \n",
       "Arlington County, Virginia            51013  \n",
       "Hunterdon County, New Jersey          34019  \n",
       "Los Alamos County, New Mexico         35028  \n",
       "Douglas County, Colorado              08035  \n",
       "Fairfax city, Virginia                51600  \n",
       "Morris County, New Jersey             34027  "
      ]
     },
     "execution_count": 6,
     "metadata": {},
     "output_type": "execute_result"
    }
   ],
   "source": [
    "\n",
    "# Clean things up a bit by renaming our columns and resetting the index\n",
    "census_df[\"County Number\"] = census_df.state.astype(str) + census_df.county.astype(str) \n",
    "\n",
    "census_df = (census_df\n",
    "             .rename(columns={'NAME' : 'County Name',\n",
    "                              'B01001_001E' : 'Total Population',\n",
    "                              'B19013_001E' : 'Median Household Income',\n",
    "                             })\n",
    "             .set_index('County Name')\n",
    "             .drop(columns=['state', 'county']))\n",
    "\n",
    "for col in ['Median Household Income', 'Total Population']:\n",
    "    census_df[col] = census_df[col].astype(int)\n",
    "      \n",
    "census_df.sort_values(by='Median Household Income', ascending=False).head(10)"
   ]
  },
  {
   "cell_type": "code",
   "execution_count": 7,
   "metadata": {
    "collapsed": false
   },
   "outputs": [
    {
     "data": {
      "text/html": [
       "<div>\n",
       "<style scoped>\n",
       "    .dataframe tbody tr th:only-of-type {\n",
       "        vertical-align: middle;\n",
       "    }\n",
       "\n",
       "    .dataframe tbody tr th {\n",
       "        vertical-align: top;\n",
       "    }\n",
       "\n",
       "    .dataframe thead th {\n",
       "        text-align: right;\n",
       "    }\n",
       "</style>\n",
       "<table border=\"1\" class=\"dataframe\">\n",
       "  <thead>\n",
       "    <tr style=\"text-align: right;\">\n",
       "      <th></th>\n",
       "      <th>Total Population</th>\n",
       "      <th>Median Household Income</th>\n",
       "      <th>County Number</th>\n",
       "    </tr>\n",
       "    <tr>\n",
       "      <th>County Name</th>\n",
       "      <th></th>\n",
       "      <th></th>\n",
       "      <th></th>\n",
       "    </tr>\n",
       "  </thead>\n",
       "  <tbody>\n",
       "    <tr>\n",
       "      <th>Los Angeles County, California</th>\n",
       "      <td>10057155</td>\n",
       "      <td>57952</td>\n",
       "      <td>06037</td>\n",
       "    </tr>\n",
       "    <tr>\n",
       "      <th>Cook County, Illinois</th>\n",
       "      <td>5227575</td>\n",
       "      <td>56902</td>\n",
       "      <td>17031</td>\n",
       "    </tr>\n",
       "    <tr>\n",
       "      <th>Harris County, Texas</th>\n",
       "      <td>4434257</td>\n",
       "      <td>55584</td>\n",
       "      <td>48201</td>\n",
       "    </tr>\n",
       "    <tr>\n",
       "      <th>Maricopa County, Arizona</th>\n",
       "      <td>4088549</td>\n",
       "      <td>55676</td>\n",
       "      <td>04013</td>\n",
       "    </tr>\n",
       "    <tr>\n",
       "      <th>San Diego County, California</th>\n",
       "      <td>3253356</td>\n",
       "      <td>66529</td>\n",
       "      <td>06073</td>\n",
       "    </tr>\n",
       "    <tr>\n",
       "      <th>Orange County, California</th>\n",
       "      <td>3132211</td>\n",
       "      <td>78145</td>\n",
       "      <td>06059</td>\n",
       "    </tr>\n",
       "    <tr>\n",
       "      <th>Miami-Dade County, Florida</th>\n",
       "      <td>2664418</td>\n",
       "      <td>44224</td>\n",
       "      <td>12086</td>\n",
       "    </tr>\n",
       "    <tr>\n",
       "      <th>Kings County, New York</th>\n",
       "      <td>2606852</td>\n",
       "      <td>50640</td>\n",
       "      <td>36047</td>\n",
       "    </tr>\n",
       "    <tr>\n",
       "      <th>Dallas County, Texas</th>\n",
       "      <td>2513054</td>\n",
       "      <td>51411</td>\n",
       "      <td>48113</td>\n",
       "    </tr>\n",
       "    <tr>\n",
       "      <th>Riverside County, California</th>\n",
       "      <td>2323892</td>\n",
       "      <td>57972</td>\n",
       "      <td>06065</td>\n",
       "    </tr>\n",
       "  </tbody>\n",
       "</table>\n",
       "</div>"
      ],
      "text/plain": [
       "                                Total Population  Median Household Income  \\\n",
       "County Name                                                                 \n",
       "Los Angeles County, California          10057155                    57952   \n",
       "Cook County, Illinois                    5227575                    56902   \n",
       "Harris County, Texas                     4434257                    55584   \n",
       "Maricopa County, Arizona                 4088549                    55676   \n",
       "San Diego County, California             3253356                    66529   \n",
       "Orange County, California                3132211                    78145   \n",
       "Miami-Dade County, Florida               2664418                    44224   \n",
       "Kings County, New York                   2606852                    50640   \n",
       "Dallas County, Texas                     2513054                    51411   \n",
       "Riverside County, California             2323892                    57972   \n",
       "\n",
       "                               County Number  \n",
       "County Name                                   \n",
       "Los Angeles County, California         06037  \n",
       "Cook County, Illinois                  17031  \n",
       "Harris County, Texas                   48201  \n",
       "Maricopa County, Arizona               04013  \n",
       "San Diego County, California           06073  \n",
       "Orange County, California              06059  \n",
       "Miami-Dade County, Florida             12086  \n",
       "Kings County, New York                 36047  \n",
       "Dallas County, Texas                   48113  \n",
       "Riverside County, California           06065  "
      ]
     },
     "execution_count": 7,
     "metadata": {},
     "output_type": "execute_result"
    }
   ],
   "source": [
    "census_df.sort_values(by='Total Population', ascending=False).head(10)"
   ]
  },
  {
   "cell_type": "code",
   "execution_count": 11,
   "metadata": {
    "collapsed": false
   },
   "outputs": [],
   "source": [
    "# census_df.to_csv('../../../web/www/data/census_counties.csv')"
   ]
  },
  {
   "cell_type": "code",
   "execution_count": null,
   "metadata": {
    "collapsed": true
   },
   "outputs": [],
   "source": []
  },
  {
   "cell_type": "code",
   "execution_count": null,
   "metadata": {
    "collapsed": true
   },
   "outputs": [],
   "source": []
  },
  {
   "cell_type": "code",
   "execution_count": null,
   "metadata": {
    "collapsed": true
   },
   "outputs": [],
   "source": []
  },
  {
   "cell_type": "code",
   "execution_count": null,
   "metadata": {
    "collapsed": true
   },
   "outputs": [],
   "source": []
  },
  {
   "cell_type": "code",
   "execution_count": null,
   "metadata": {
    "collapsed": true
   },
   "outputs": [],
   "source": []
  },
  {
   "cell_type": "code",
   "execution_count": null,
   "metadata": {
    "collapsed": true
   },
   "outputs": [],
   "source": []
  }
 ],
 "metadata": {
  "anaconda-cloud": {},
  "kernelspec": {
   "display_name": "Python [py36]",
   "language": "python",
   "name": "Python [py36]"
  },
  "language_info": {
   "codemirror_mode": {
    "name": "ipython",
    "version": 3
   },
   "file_extension": ".py",
   "mimetype": "text/x-python",
   "name": "python",
   "nbconvert_exporter": "python",
   "pygments_lexer": "ipython3",
   "version": "3.6.2"
  }
 },
 "nbformat": 4,
 "nbformat_minor": 0
}
