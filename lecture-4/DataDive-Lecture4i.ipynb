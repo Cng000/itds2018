{
 "cells": [
  {
   "cell_type": "markdown",
   "metadata": {},
   "source": [
    "# Data Dive, Part I: Demonstrating Key Theorems"
   ]
  },
  {
   "cell_type": "code",
   "execution_count": null,
   "metadata": {
    "collapsed": true
   },
   "outputs": [],
   "source": [
    "%matplotlib notebook\n",
    "import pandas as pd\n",
    "import numpy as np\n",
    "import matplotlib.pyplot as plt\n",
    "from numpy import random as rd\n"
   ]
  },
  {
   "cell_type": "markdown",
   "metadata": {},
   "source": [
    "## Law of Large Numbers\n",
    "\n",
    "*The average of the results obtained from a large number of trials should be close to the expected value, and will tend to become closer as more trials are performed.* \n",
    "\n",
    "* In other words, the more data we are able to pull, the better we are able to estimate parameters and derive insights about the population. \n",
    "\n",
    "[Wikipedia](https://en.wikipedia.org/wiki/Law_of_large_numbers)"
   ]
  },
  {
   "cell_type": "code",
   "execution_count": null,
   "metadata": {
    "collapsed": false
   },
   "outputs": [],
   "source": [
    "fig = plt.figure(2)\n",
    "ax = fig.add_subplot(111)\n",
    "fig.show()\n",
    "fig.canvas.draw()\n",
    "\n",
    "plt.ion()\n",
    "\n",
    "total_sample = []\n",
    "n = 100 # number of samples for each mean\n",
    "k = 100 # number of iterations\n",
    "mu = 0\n",
    "sigma = 1\n",
    "\n",
    "for i in range(k):\n",
    "    \n",
    "    sample = rd.normal(mu, sigma, size=n)\n",
    "    \n",
    "    total_sample += list(sample)\n",
    "    \n",
    "    plt.cla()\n",
    "    ax.set_title('iteration %i, no. means=%i, mu=%0.7f' % (i+1, len(total_sample), np.mean(total_sample)))\n",
    "    ax.hist(total_sample, density=True, alpha=0.9, color='blue')\n",
    "    plt.axvline(x=np.mean(total_sample), alpha=0.9, color='red')\n",
    "    fig.canvas.draw()\n",
    "    \n",
    "plt.ioff()\n"
   ]
  },
  {
   "cell_type": "code",
   "execution_count": null,
   "metadata": {
    "collapsed": true
   },
   "outputs": [],
   "source": []
  },
  {
   "cell_type": "markdown",
   "metadata": {},
   "source": [
    "## Central Limit Theorem\n",
    "\n",
    "*When independent random variables are added, their properly normalized sum tends toward a normal distribution (informally a \"bell curve\") even if the original variables themselves are not normally distributed.* \n",
    "* The theorem is a key concept in probability theory because it implies that probabilistic and statistical methods that work for normal distributions can be applicable to many problems involving other types of distributions.\n",
    "\n",
    "[Wikipedia](https://en.wikipedia.org/wiki/Central_limit_theorem)"
   ]
  },
  {
   "cell_type": "code",
   "execution_count": null,
   "metadata": {
    "collapsed": false
   },
   "outputs": [],
   "source": [
    "fig = plt.figure(1)\n",
    "ax = fig.add_subplot(111)\n",
    "fig.show()\n",
    "fig.canvas.draw()\n",
    "\n",
    "plt.ion()\n",
    "\n",
    "sample_means = []\n",
    "n = 100 # number of samples for each mean\n",
    "m = 100 # number of means for each iteration\n",
    "k = 100 # number of iterations\n",
    "mu = 0\n",
    "sigma = 1\n",
    "\n",
    "for i in range(k):\n",
    "\n",
    "    sample = rd.normal(mu, sigma, size=[n, m])\n",
    "    \n",
    "    sample_means += list(np.mean(sample, axis=1))\n",
    "    \n",
    "    plt.cla()\n",
    "    ax.set_title('iteration %i, no. means=%i, mu=%0.7f' % (i+1, len(sample_means), np.mean(sample_means)))\n",
    "    ax.hist(sample_means, density=True, alpha=0.9, color='blue')\n",
    "    plt.axvline(x=np.mean(sample_means), alpha=0.9, color='red')\n",
    "    \n",
    "    fig.canvas.draw()\n",
    "    \n",
    "plt.ioff()\n"
   ]
  },
  {
   "cell_type": "markdown",
   "metadata": {},
   "source": []
  },
  {
   "cell_type": "code",
   "execution_count": null,
   "metadata": {
    "collapsed": false
   },
   "outputs": [],
   "source": []
  },
  {
   "cell_type": "code",
   "execution_count": null,
   "metadata": {
    "collapsed": true
   },
   "outputs": [],
   "source": []
  },
  {
   "cell_type": "code",
   "execution_count": null,
   "metadata": {
    "collapsed": true
   },
   "outputs": [],
   "source": []
  }
 ],
 "metadata": {
  "anaconda-cloud": {},
  "kernelspec": {
   "display_name": "Python [py36]",
   "language": "python",
   "name": "Python [py36]"
  },
  "language_info": {
   "codemirror_mode": {
    "name": "ipython",
    "version": 3
   },
   "file_extension": ".py",
   "mimetype": "text/x-python",
   "name": "python",
   "nbconvert_exporter": "python",
   "pygments_lexer": "ipython3",
   "version": "3.6.2"
  }
 },
 "nbformat": 4,
 "nbformat_minor": 0
}
